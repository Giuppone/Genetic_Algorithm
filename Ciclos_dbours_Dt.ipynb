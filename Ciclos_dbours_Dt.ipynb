{
  "nbformat": 4,
  "nbformat_minor": 0,
  "metadata": {
    "kernelspec": {
      "display_name": "Python 3",
      "language": "python",
      "name": "python3"
    },
    "language_info": {
      "codemirror_mode": {
        "name": "ipython",
        "version": 3
      },
      "file_extension": ".py",
      "mimetype": "text/x-python",
      "name": "python",
      "nbconvert_exporter": "python",
      "pygments_lexer": "ipython3",
      "version": "3.5.2"
    },
    "colab": {
      "name": "Ciclos-dbours-Dt.ipynb",
      "provenance": [],
      "collapsed_sections": [],
      "include_colab_link": true
    }
  },
  "cells": [
    {
      "cell_type": "markdown",
      "metadata": {
        "id": "view-in-github",
        "colab_type": "text"
      },
      "source": [
        "<a href=\"https://colab.research.google.com/github/Giuppone/CelMech/blob/main/Ciclos_dbours_Dt.ipynb\" target=\"_parent\"><img src=\"https://colab.research.google.com/assets/colab-badge.svg\" alt=\"Open In Colab\"/></a>"
      ]
    },
    {
      "cell_type": "markdown",
      "metadata": {
        "id": "s2tDXvOvqfGu"
      },
      "source": [
        ""
      ]
    },
    {
      "cell_type": "markdown",
      "metadata": {
        "id": "-NgsKGiEn3jD"
      },
      "source": [
        "Calculo de ciclos para \"QS Vir\", requiere el archivo Datos.txt\n",
        "\n",
        "> Bloque con sangría\n",
        "@ C. Giuppone . Reduccion de datos para detectar binarias . Con K. (K,e,w,t0,z0,P,t)   23/8/2021"
      ]
    },
    {
      "cell_type": "code",
      "metadata": {
        "id": "KjfqrNzIn3jH"
      },
      "source": [
        "%matplotlib inline\n",
        "import numpy as np\n",
        "import matplotlib.pyplot as plt\n",
        "import scipy.optimize as optimize\n",
        "from math import *    #importa todas las operaciones matemáticas de math (sin, cos, tan, sqrt, pi, etc)\n",
        "#import pandas\n",
        "plt.style.use('default')"
      ],
      "execution_count": null,
      "outputs": []
    },
    {
      "cell_type": "code",
      "metadata": {
        "id": "n2wn7khrl8P3"
      },
      "source": [
        "# https://www.iau.org/public/themes/measuring/ \n",
        "uam     = 1.495978707e11\n",
        "c       = 2.99792458e8/uam #m/s/uam == ua/s\n",
        "twopi   = pi*2\n",
        "dy     = 365.25\n",
        "k      = 1.720209895e-02\n",
        "G      = k*k\n",
        "mearth = 3.04043e-6       # earth mass in solar masses\n",
        "mjup   = 9.54792e-4       #pup in solar masses\n",
        "rad    = twopi/360.0"
      ],
      "execution_count": null,
      "outputs": []
    },
    {
      "cell_type": "code",
      "metadata": {
        "colab": {
          "base_uri": "https://localhost:8080/",
          "height": 51
        },
        "id": "zAsTzeu0oReF",
        "outputId": "5bcb2834-5152-4995-9d11-a44498088a2b"
      },
      "source": [
        "import os\n",
        "# Let's determine the current directory and store it in a variable\n",
        "# (execute this cell only once at the beginning)\n",
        "# ayudas comandos: https://neptune.ai/blog/google-colab-dealing-with-files-2\n",
        "\n",
        "from google.colab import drive\n",
        "drive.mount('/content/drive')\n",
        "cwd = os.getcwd()\n",
        "cwd"
      ],
      "execution_count": null,
      "outputs": [
        {
          "output_type": "stream",
          "name": "stdout",
          "text": [
            "Mounted at /content/drive\n"
          ]
        },
        {
          "output_type": "execute_result",
          "data": {
            "application/vnd.google.colaboratory.intrinsic+json": {
              "type": "string"
            },
            "text/plain": [
              "'/content'"
            ]
          },
          "metadata": {},
          "execution_count": 3
        }
      ]
    },
    {
      "cell_type": "code",
      "metadata": {
        "colab": {
          "base_uri": "https://localhost:8080/"
        },
        "id": "zHJAtw9VoSqI",
        "outputId": "a38ac759-60bc-4195-9cd6-2691a0a82aab"
      },
      "source": [
        "#drive dir\n",
        "drive_dir = \"/content/drive/MyDrive/QSvir2021\"\n",
        "os.chdir (drive_dir)\n",
        "!ls"
      ],
      "execution_count": null,
      "outputs": [
        {
          "output_type": "stream",
          "name": "stdout",
          "text": [
            "2pl.ipynb\t\t     Ciclos-dbours-P.ipynb  Fig4-Bours2016.png\n",
            "ae1.png\t\t\t     compara.png\t    OC.ipynb\n",
            "ae2.png\t\t\t     Datos.txt\t\t    qsvir.dat\n",
            "Ciclos-dbours-Dt_back.ipynb  Fig10-Bours2016.png    QSvir-k-fit-1pl.ipynb\n",
            "Ciclos-dbours-Dt.ipynb\t     Fig10-OCwithT.png\n"
          ]
        }
      ]
    },
    {
      "cell_type": "code",
      "metadata": {
        "id": "IM3JT2iqn3jI"
      },
      "source": [
        ""
      ],
      "execution_count": null,
      "outputs": []
    },
    {
      "cell_type": "code",
      "metadata": {
        "id": "I2SfnD4Xn3jJ",
        "colab": {
          "base_uri": "https://localhost:8080/"
        },
        "outputId": "b7cea2f0-ca4d-4943-de32-edb334d7bbe7"
      },
      "source": [
        "# Leo el archivo con los datos \n",
        "Datos = np.loadtxt(\"Datos.txt\")\n",
        "#Datos = np.loadtxt(\"Datosr.txt\")\n",
        "# QS =pandas.read_csv('qsvir.dat', delim_whitespace=True)\n",
        "EB = Datos[:,0] # Eclipses Bours\n",
        "T =  Datos[:,1] # Tiempos de eclipse c/r al baricentro\n",
        "ERR = Datos[:,2] # Error en los tiempos de eclipse\n",
        "Obs = Datos[:,3] # Observador (leer Leyenda de Bours.txt para su comprensión)\n",
        "# Por ej: obs[0]=1. => El \"1\" está asociado a \"O’Donoghue et al. 2003\"\n",
        "E=EB\n",
        "print (len(EB),'el Artículo Bours dice q son 110 datos')"
      ],
      "execution_count": null,
      "outputs": [
        {
          "output_type": "stream",
          "name": "stdout",
          "text": [
            "105 el Artículo Bours dice q son 110 datos\n"
          ]
        }
      ]
    },
    {
      "cell_type": "code",
      "metadata": {
        "colab": {
          "base_uri": "https://localhost:8080/"
        },
        "id": "NQ3vvim5Exc6",
        "outputId": "7d382f90-3913-4d37-bc9d-41667bc3b7c2"
      },
      "source": [
        "len(T)"
      ],
      "execution_count": null,
      "outputs": [
        {
          "output_type": "execute_result",
          "data": {
            "text/plain": [
              "105"
            ]
          },
          "metadata": {},
          "execution_count": 6
        }
      ]
    },
    {
      "cell_type": "code",
      "metadata": {
        "colab": {
          "base_uri": "https://localhost:8080/",
          "height": 311
        },
        "id": "AFHbTf_0n3jY",
        "outputId": "49153366-2428-4d75-aab5-22ca54344459"
      },
      "source": [
        "plt.figure(figsize=(5*1.5,3*1.5))\n",
        "secD = 24*60*60                # segundos en un día\n",
        "plt.xlabel('day')\n",
        "plt.ylabel(r'$\\tau [s]$');\n",
        "plt.ylim(-150,150)\n",
        "\n",
        "ij =20\n",
        "it =20\n",
        "while ij<len(E):\n",
        "    #TE = t0 + Porb*E\n",
        "    x=E[0:ij]\n",
        "    y=T[0:ij]\n",
        "    p= np.polyfit(x, y, 1, rcond=None, full=False, w=None, cov=False)\n",
        "    # p2=np.polyfit(x, y, 2, rcond=None, full=False, w=None, cov=False)\n",
        "    # print (p[0],ij)\n",
        "    deltaT = round((T[ij]-T[0])/365.25,1)\n",
        "    tlabel = '$\\Delta$ T= '+str(deltaT)+' (yr), N='+str(ij)\n",
        "    plt.scatter(T[0:ij], (T[0:ij]-(p[1]+p[0]*E[0:ij]))*secD, s=6, label=tlabel)\n",
        "    ij=ij+it\n",
        "\n",
        "p= np.polyfit(E, T, 1, rcond=None, full=False, w=None, cov=False)\n",
        "deltaT = round((T[len(T)-1]-T[0])/365.25,1)\n",
        "tlabel = '$\\Delta$ T= '+str(deltaT)+' (yr), N='+str(len(E))\n",
        "\n",
        "# plt.scatter(T, (T-(p[1]+p[0]*E))*secD, s=6, cmap='jet', label=tlabel)\n",
        "\n",
        "plt.legend(bbox_to_anchor=(1.05, 1), loc='upper left')\n",
        "\n",
        "plt.savefig('Fig10-OCwithT.png')"
      ],
      "execution_count": null,
      "outputs": [
        {
          "output_type": "display_data",
          "data": {
            "image/png": "[encoded data removed]",
            "text/plain": [
              "<Figure size 540x324 with 1 Axes>"
            ]
          },
          "metadata": {
            "needs_background": "light"
          }
        }
      ]
    },
    {
      "cell_type": "code",
      "metadata": {
        "colab": {
          "base_uri": "https://localhost:8080/",
          "height": 254
        },
        "id": "2_U7R8yDIsdr",
        "outputId": "aee5de11-57cf-4001-da44-931e349da6fd"
      },
      "source": [
        "OC = (T-(p[1]+p[0]*E))*secD\n",
        "OCs = np.zeros(len(OC))\n",
        "ij =0 \n",
        "while ij<len(OC):\n",
        "#     print (np.sqrt(np.sum(OC[0:ij]*OC[0:ij])))\n",
        "    OCs[ij] = np.sqrt(OC[0:ij].dot(OC[0:ij])/(ij*1.))\n",
        "    # print (ij, OC[ij],OCs[ij])\n",
        "    ij=ij+1\n",
        "    # plt.plot((T-T[0])/365.25, OCs, 'go--', linewidth=2, markersize=12)\n",
        "plt.figure(figsize=(5,3))\n",
        "plt.plot((T-T[0])/365.25, OCs, color='gray', marker='*', linestyle='-', linewidth=2, markersize=7)\n",
        "plt.plot((T[len(T)-1]-T[0])/365.25, OCs[len(T)-1], color='black', marker='*', linestyle='-', linewidth=2, markersize=7)\n",
        "plt.ylabel(r'RMS of O-C residuals')\n",
        "plt.xlabel('observational baseline (yr)' )\n",
        "# plt.ylim(0.3,400)\n",
        "# plt.yscale('log')\n",
        "plt.tick_params(direction='in', axis='both')\n",
        "plt.savefig('Fig4-Bours2016.png')"
      ],
      "execution_count": null,
      "outputs": [
        {
          "output_type": "stream",
          "name": "stderr",
          "text": [
            "/usr/local/lib/python3.7/dist-packages/ipykernel_launcher.py:6: RuntimeWarning: invalid value encountered in double_scalars\n",
            "  \n"
          ]
        },
        {
          "output_type": "display_data",
          "data": {
            "image/png": "[encoded data removed]",
            "text/plain": [
              "<Figure size 360x216 with 1 Axes>"
            ]
          },
          "metadata": {
            "needs_background": "light"
          }
        }
      ]
    },
    {
      "cell_type": "code",
      "metadata": {
        "id": "KDPOLpx-gD1M"
      },
      "source": [
        "#Funciones auxiliares\n",
        "#anomalía eccéntrica\n",
        "def ae(e,M):\n",
        "    E = M #Valor inicial para iteración\n",
        "    i = 0\n",
        "    while True:\n",
        "        E0 = E\n",
        "        E = M + e*np.sin(E0)\n",
        "        i = i+1\n",
        "        D = np.abs(E-E0)\n",
        "        if ((D<0.0001).all()):   #cg 24/8\n",
        "\n",
        "            return E #np.necesario\n",
        "            break\n",
        "#Anomalía verdadera:  Tan(F/2) = ee*Tan(E/2) #giuppone\n",
        "def F(e,M):\n",
        "    ee=np.sqrt((1+e)/(1-e))\n",
        "    \n",
        "    ss = sqrt(1. + e)*np.sin(ae(e,M)/2.)\n",
        "    cs = sqrt(1. - e)*np.cos(ae(e,M)/2.)\n",
        "    F   = 2*np.arctan2(ss,cs)   #anomalía verdadera en cuadrante correcto   #np.necesario\n",
        "    return F         \n"
      ],
      "execution_count": null,
      "outputs": []
    },
    {
      "cell_type": "code",
      "metadata": {
        "id": "Xc_3NW8GCd0t"
      },
      "source": [
        ""
      ],
      "execution_count": null,
      "outputs": []
    },
    {
      "cell_type": "code",
      "metadata": {
        "id": "z8cF23JFhg3q"
      },
      "source": [
        "def tau(K,e,w,t0,z0,P,t):  #k in secs #P in years #z0 in secs #Mp enters in jupiter masses\n",
        "# el orden de las variables debe ser K,e,w,t0,z0,P\n",
        "    n    = 2*pi/(P*365.25)\n",
        "    M    = n*(t-t0)\n",
        "    f    = F(e,M)\n",
        "    z    = K*(1-e**2)/(1+e*cos(f))*sin(f+w)   # K=a*sin(inc)*mp/(me+mp)  #el c está transformado en ua/s, para q z de en s\n",
        "    tau=z+z0\n",
        "    return tau"
      ],
      "execution_count": null,
      "outputs": []
    },
    {
      "cell_type": "code",
      "metadata": {
        "id": "ygC2dUjgy38F"
      },
      "source": [
        "def taug(K,e,w,t0,z0,P,t):  #k in secs #P in years #z0 in secs #Mp enters in jupiter masses\n",
        "# el orden de las variables debe ser K,e,w,t0,z0,P\n",
        "    n    = 2*pi/(P*365.25)\n",
        "    M     = n*(t-t0)\n",
        "    aE    = ae(e,M)\n",
        "\n",
        "    z  = K*(sin(w)*(cos(aE)-e)+cos(w)*sqrt(1-e*e)*sin(aE))  # K=a/c*sin(inc)*mp/(me+mp)  #K en seg, el c está transformado en ua/s, para q z de en s\n",
        "    tau=z+z0\n",
        "    return tau"
      ],
      "execution_count": null,
      "outputs": []
    },
    {
      "cell_type": "code",
      "metadata": {
        "colab": {
          "base_uri": "https://localhost:8080/",
          "height": 278
        },
        "id": "HSH50R1zn3jZ",
        "outputId": "8f9f060d-96a4-47b4-f3a0-6d32a24025c4"
      },
      "source": [
        "# Grafico Tiempos de eclipse vs ciclos\n",
        "#plt.scatter(times,z[1]/c*mp/(m0+m1+mp), label='n-body')\n",
        "data =np.loadtxt('qsvir.dat',usecols=(1,2,3))\n",
        "tr    = data[:,0]   #time  #no cambiar el origen de tiempo\n",
        "taur  = data[:,1]\n",
        "etaur = data[:,2]\n",
        "\n",
        "plt.scatter(tr,taur, label='observations Almeida+ private comunication')\n",
        "#plt.plot(times*1.3,(z[1]/c*mp/(m0+m1+mp))*1.5-90, label='n-body corrected')\n",
        "#plt.xlim(0,7000)\n",
        "plt.xlabel('Time [BJD]')\n",
        "#plt.ylim(-30,141)\n",
        "plt.ylabel(r'$\\tau=z/c = O-C [m/s]$')\n",
        "plt.legend()\n",
        "plt.show()"
      ],
      "execution_count": null,
      "outputs": [
        {
          "output_type": "display_data",
          "data": {
            "image/png": "[encoded data removed]",
            "text/plain": [
              "<Figure size 432x288 with 1 Axes>"
            ]
          },
          "metadata": {
            "needs_background": "light"
          }
        }
      ]
    },
    {
      "cell_type": "code",
      "metadata": {
        "id": "mL4L1bnHn3ja"
      },
      "source": [
        "#Construct syntethic curves\n",
        "def synt(Params):    #genera una curva de \"z\" de 1000 puntos con params\n",
        "# el orden de las variables debe ser K,e,w,t0,z0,P\n",
        "    K,e,w,t0,z0,P = Params\n",
        "    Zsy =[]   #velocidad radial sintética (genero una curva continua sin errores)\n",
        "    Tsy =[]\n",
        "    nf=1000\n",
        "    delta=max(t)-min(t)\n",
        "    ij=0\n",
        "    while ij < nf:\n",
        "        tsy=min(t)+delta*ij/nf\n",
        "        Zsy.append(tau(K,e,w,t0,z0,P,tsy))\n",
        "        Tsy.append(tsy)\n",
        "        ij = ij+1\n",
        "    return Tsy,Zsy   \n",
        "\n",
        "def OC(Params):    #genera una curva de OC con params\n",
        "    K,e,w,t0,z0,P = Params\n",
        "# el orden de las variables debe ser K,e,w,t0,z0,P\n",
        "    BOC   =[]\n",
        "    TOC   =[] \n",
        "    ij=0\n",
        "    while ij < len(t):\n",
        "        BOC.append(tau(K,e,w,t0,z0,P,t=t[ij]))\n",
        "        TOC.append(t[ij])\n",
        "        ij = ij+1\n",
        "    return TOC,BOC    "
      ],
      "execution_count": null,
      "outputs": []
    },
    {
      "cell_type": "code",
      "metadata": {
        "colab": {
          "base_uri": "https://localhost:8080/"
        },
        "id": "rKmhbQLpk6rN",
        "outputId": "46ac533f-fd60-47fb-ab3a-dac783a22223"
      },
      "source": [
        "#Generate synt\n",
        "m0=0.78\n",
        "m1=0.43\n",
        "Me=m0+m1   #no se necesita Me hasta no calcular los secundarios, pero para generar una curva real SI\n",
        "\n",
        "Mp  =52.7*mjup  #en msun\n",
        "P   =18.96      #years    #uno de los tantos valores de la literatura\n",
        "n   = 2*pi/(P*365.25)\n",
        "a   = (G*(Me+Mp)/(n**2))**(1./3.) #3ra kepler\n",
        "inc = 76.5\n",
        "\n",
        "K = a*sin(inc*rad)*Mp/(Me+Mp)/c  # K=a*sin(inc)*mp/(me+mp) , asumiendo inc del sistema binario 78.5 Latkovic\n",
        "\n",
        "print (\"a (au)= \", a,inc,mjup,\"K (seg)= \", K)\n",
        "ep =0.95\n",
        "w  = 206*rad\n",
        "T0 = 53831\n",
        "z0 = 0. \n",
        "t  = tr \n",
        "\n",
        "print(T0,t[0],min(t),max(t))"
      ],
      "execution_count": null,
      "outputs": [
        {
          "output_type": "stream",
          "name": "stdout",
          "text": [
            "a (au)=  7.680333532161485 76.5 0.000954792 K (seg)=  148.7838224704055\n",
            "53831 48715.419887605 48715.419887605 58706.421355722\n"
          ]
        }
      ]
    },
    {
      "cell_type": "code",
      "metadata": {
        "colab": {
          "base_uri": "https://localhost:8080/",
          "height": 264
        },
        "id": "1HKIsSaOM1Fe",
        "outputId": "421c250b-b3f1-4597-be0b-3d8c091c22c1"
      },
      "source": [
        "  #ainc,e,w,t0,z0,P \n",
        "ep =0.95\n",
        "w  = 206*rad\n",
        "### parámetros y generación de sintéticas\n",
        "Params = K,ep,w,T0,z0,P\n",
        "tsy0,zsy0 = synt(Params)\n",
        "Params = K,ep,w,57000.,z0,P\n",
        "tsy1,zsy1 = synt(Params)\n",
        "Params = K,ep,w,T0,20,P\n",
        "tsy2,zsy2 = synt(Params)\n",
        "Params = 0.5*K,ep,w,T0,z0,P\n",
        "tsy3,zsy3 = synt(Params)\n",
        "\n",
        "## ploteo de los datos sintéticos\n",
        "#the amplitude does not change with T0\n",
        "plt.plot(tsy0,zsy0, label='fiducial', c='gray')\n",
        "plt.plot(tsy1,zsy1, label='fiducial T0 moved')\n",
        "plt.plot(tsy2,zsy2, label='fiducial z moved')\n",
        "plt.plot(tsy3,zsy3, label='fiducial K escaled')\n",
        "\n",
        "plt.legend()\n",
        "plt.savefig('ae2.png',dpi=300)"
      ],
      "execution_count": null,
      "outputs": [
        {
          "output_type": "display_data",
          "data": {
            "image/png": "[encoded data removed]",
            "text/plain": [
              "<Figure size 432x288 with 1 Axes>"
            ]
          },
          "metadata": {
            "needs_background": "light"
          }
        }
      ]
    },
    {
      "cell_type": "code",
      "metadata": {
        "colab": {
          "base_uri": "https://localhost:8080/",
          "height": 264
        },
        "id": "P0n9d0h89etM",
        "outputId": "51441aaf-026b-4c00-acda-87f039e17ab5"
      },
      "source": [
        "ep =0.3\n",
        "w  = 206*rad\n",
        "### parámetros y generación de sintéticas\n",
        "Params = K,ep,w,T0,z0,P\n",
        "tsy0,zsy0 = synt(Params)\n",
        "Params = K,ep,w,57000.,z0,P\n",
        "tsy1,zsy1 = synt(Params)\n",
        "Params = K,ep,w,T0,20,P\n",
        "tsy2,zsy2 = synt(Params)\n",
        "Params = 0.5*K,ep,w,T0,z0,P\n",
        "tsy3,zsy3 = synt(Params)\n",
        "\n",
        "## ploteo de los datos sintéticos\n",
        "#the amplitude does not change with T0\n",
        "plt.plot(tsy0,zsy0, label='fiducial', c='gray')\n",
        "plt.plot(tsy1,zsy1, label='fiducial T0 moved')\n",
        "plt.plot(tsy2,zsy2, label='fiducial z moved')\n",
        "plt.plot(tsy3,zsy3, label='fiducial K escaled')\n",
        "\n",
        "plt.legend()\n",
        "plt.savefig('ae1.png',dpi=300)"
      ],
      "execution_count": null,
      "outputs": [
        {
          "output_type": "display_data",
          "data": {
            "image/png": "[encoded data removed]",
            "text/plain": [
              "<Figure size 432x288 with 1 Axes>"
            ]
          },
          "metadata": {
            "needs_background": "light"
          }
        }
      ]
    },
    {
      "cell_type": "code",
      "metadata": {
        "id": "WmVXVE4GSRD6",
        "colab": {
          "base_uri": "https://localhost:8080/",
          "height": 314
        },
        "outputId": "36d6915c-1af0-4815-e615-121af080f284"
      },
      "source": [
        "import timeit\n",
        "M = np.arange(0,360,0.001)*rad\n",
        "e =0.9\n",
        "E = M #Valor inicial para iteración\n",
        "i = 0\n",
        "w=90*rad\n",
        "aE    = ae(e,M)\n",
        "f     = F(e,M)\n",
        "\n",
        "start = timeit.default_timer()\n",
        "taug= (np.sin(w)*(np.cos(aE)-e)+np.cos(w)*np.sqrt(1-e*e)*np.sin(aE))  # K=a/c*sin(inc)*mp/(me+mp)  #K en seg, el c está transformado en ua/s, para q z de en s\n",
        "stop = timeit.default_timer()\n",
        "\n",
        "print('Time: ', stop - start)  \n",
        "\n",
        "start = timeit.default_timer()\n",
        "tauw= (1-e**2)/(1+e*np.cos(f))*np.sin(f+w) \n",
        "stop = timeit.default_timer()\n",
        "\n",
        "print('Time: ', stop - start)  \n",
        "\n",
        "plt.subplot(2,1,1)\n",
        "plt.plot(M/rad,aE,label='anom ecc')\n",
        "plt.plot(M/rad,f,label='anom verd')\n",
        "plt.legend()\n",
        "\n",
        "plt.subplot(2,1,2)\n",
        "plt.plot(M/rad,taug,label='modulación Godz')\n",
        "plt.plot(M/rad,tauw,label='modulación Wolj')\n",
        "plt.legend()\n"
      ],
      "execution_count": null,
      "outputs": [
        {
          "output_type": "stream",
          "name": "stdout",
          "text": [
            "Time:  0.016073293999966154\n",
            "Time:  0.01782849599999281\n"
          ]
        },
        {
          "output_type": "execute_result",
          "data": {
            "text/plain": [
              "<matplotlib.legend.Legend at 0x7ff031557cd0>"
            ]
          },
          "metadata": {},
          "execution_count": 17
        },
        {
          "output_type": "display_data",
          "data": {
            "image/png": "[encoded data removed]",
            "text/plain": [
              "<Figure size 432x288 with 2 Axes>"
            ]
          },
          "metadata": {
            "needs_background": "light"
          }
        }
      ]
    },
    {
      "cell_type": "code",
      "metadata": {
        "id": "WYtRN6TFk7IM"
      },
      "source": [
        "#Defino una WRMS que dependa de una sóla variable (que será un arreglo) (así funciona el minimizador)\n",
        "#Los DATOS que tengo son: t, taur, etaur\n",
        "#K,ep,w,T0,z0,P = Params\n",
        "\n",
        "# K = a*sin(inc*rad)*Mp/(Me+Mp)/c  # K=a*sin(inc)*mp/(me+mp) , asumiendo inc del sistema binario 78.5 Latkovic\n",
        "   \n",
        "#bounds = ((aincm,aincmax), (emin,emax), (wmin, wmax), (t0min,t0max), (z0min,z0max), (Pmin,Pmax))\n",
        "def WRMS(Params):\n",
        "\n",
        "#    print (Params)\n",
        "#    print (bounds)\n",
        "    for x,r in zip(Params,bounds):    #el comando junta los datos de Params y bounds\n",
        "        if x < r[0] or x > r[1]:      #si los params son mayores o menores q los bounds retorna infinito \n",
        "      #      print (x,r[0],r[1])\n",
        "            return np.inf\n",
        "        \n",
        "    K,e,w,t0,z0,P = Params    #Arreglo a minimizar\n",
        "    Be=taur\n",
        "     \n",
        "#    print(taur[0:2],t[0:2])\n",
        "    VT=[]\n",
        "    ij = 0\n",
        "    while ij<len(Be):\n",
        "        VT.append(tau(K,e,w,t0,z0,P,t=t[ij]))\n",
        "        ij = ij + 1\n",
        "        \n",
        "    N =len(Be)\n",
        "    err   = etaur #np.sqrt(ei**2+sj**2)\n",
        "    invS  =np.sum(1./err**2)\n",
        "    Ab    =invS/N/(N-1.)\n",
        "\n",
        "    WRMS=Ab*np.sum((( VT - Be)/err)**2.)\n",
        "    return np.sqrt(WRMS)  \n",
        "\n",
        "def nWRMS(Params):\n",
        "    wi=WRMS(Params)\n",
        "    N =len(taur)\n",
        "    w2=wi*N*(N-1)\n",
        "    return -0.5*w2"
      ],
      "execution_count": null,
      "outputs": []
    },
    {
      "cell_type": "code",
      "metadata": {
        "colab": {
          "base_uri": "https://localhost:8080/",
          "height": 281
        },
        "id": "bHwMeqnlRnPg",
        "outputId": "bdf4e19a-9863-4660-dff0-a6e620d078bf"
      },
      "source": [
        "plt.scatter(t,taur)"
      ],
      "execution_count": null,
      "outputs": [
        {
          "output_type": "execute_result",
          "data": {
            "text/plain": [
              "<matplotlib.collections.PathCollection at 0x7ff03151b7d0>"
            ]
          },
          "metadata": {},
          "execution_count": 19
        },
        {
          "output_type": "display_data",
          "data": {
            "image/png": "[encoded data removed]",
            "text/plain": [
              "<Figure size 432x288 with 1 Axes>"
            ]
          },
          "metadata": {
            "needs_background": "light"
          }
        }
      ]
    },
    {
      "cell_type": "code",
      "metadata": {
        "id": "9GIljcMUxFb-"
      },
      "source": [
        ""
      ],
      "execution_count": null,
      "outputs": []
    },
    {
      "cell_type": "code",
      "metadata": {
        "colab": {
          "base_uri": "https://localhost:8080/"
        },
        "id": "qnMmZfEoRiPW",
        "outputId": "73d3a279-0146-427e-cdda-2469b248d440"
      },
      "source": [
        "K =  148.7838224704055 #initial guess\n",
        "Params = K,0.95,206*rad,T0,0.,18.96\n",
        "# bounds = ((Kmin,Kmax), (emin,emax), (wmin, wmax), (t0min,t0max), (z0min,z0max), (Pmin,Pmax))\n",
        "Pmin=(t[2]-t[0])/dy\n",
        "Pmax=(max(t)-min(t))/dy   #in years\n",
        "t0min = min(t)\n",
        "t0max = max(t)\n",
        "z0min = min(taur)\n",
        "z0max = max(taur)\n",
        "Kmin  = 3  # usar definición del teórico K\n",
        "Kmax  = max(taur)-min(taur) # usar definición del teórico K\n",
        "bounds = (Kmin,Kmax), (0,0.99), (0, 2*pi), (t0min,t0max), (z0min,z0max), (Pmin,Pmax)\n",
        "bounds = (Kmin,Kmax), (0,0.99), (0, 2*pi), (t0min,t0max), (z0min,z0max), (15.,30.)\n",
        "# WRMS(Params)\n",
        "print (bounds)\n",
        "print (Params)"
      ],
      "execution_count": null,
      "outputs": [
        {
          "output_type": "stream",
          "name": "stdout",
          "text": [
            "((3, 240.19319463987), (0, 0.99), (0, 6.283185307179586), (48715.419887605, 58706.421355722), (-119.99747701921, 120.19571762066), (15.0, 30.0))\n",
            "(148.7838224704055, 0.95, 3.595378259108319, 53831, 0.0, 18.96)\n"
          ]
        }
      ]
    },
    {
      "cell_type": "code",
      "metadata": {
        "colab": {
          "base_uri": "https://localhost:8080/"
        },
        "id": "tE0J8McqxO0Q",
        "outputId": "27c168c3-8776-44be-d1ba-a47f3b1f69d5"
      },
      "source": [
        "WRMS(Params)"
      ],
      "execution_count": null,
      "outputs": [
        {
          "output_type": "execute_result",
          "data": {
            "text/plain": [
              "959.0847285121271"
            ]
          },
          "metadata": {},
          "execution_count": 21
        }
      ]
    },
    {
      "cell_type": "code",
      "metadata": {
        "id": "vnPXYERNk7LA",
        "colab": {
          "base_uri": "https://localhost:8080/"
        },
        "outputId": "e9162045-ce3a-408d-af5c-3139fc688aa5"
      },
      "source": [
        "%%time\n",
        "import scipy.optimize as optimize\n",
        "#Minimize # genetics algorithm. No necesita condicion inicial...sólo bounds!\n",
        "resultga0 = optimize.differential_evolution(WRMS, bounds, strategy='best1bin', maxiter=95, popsize=80,tol=0.01, mutation=(0.5, 1), recombination=0.7, seed=None, callback=None, disp=True, polish=True, init='latinhypercube', atol=0)   #disp=True si queremos ver como avanza.\n",
        "resultga0.x"
      ],
      "execution_count": null,
      "outputs": [
        {
          "output_type": "stream",
          "name": "stdout",
          "text": [
            "differential_evolution step 1: f(x)= 128.717\n",
            "differential_evolution step 2: f(x)= 128.717\n",
            "differential_evolution step 3: f(x)= 120.546\n",
            "differential_evolution step 4: f(x)= 120.546\n",
            "differential_evolution step 5: f(x)= 120.546\n",
            "differential_evolution step 6: f(x)= 116.948\n",
            "differential_evolution step 7: f(x)= 116.948\n",
            "differential_evolution step 8: f(x)= 116.948\n",
            "differential_evolution step 9: f(x)= 116.948\n",
            "differential_evolution step 10: f(x)= 113.48\n",
            "differential_evolution step 11: f(x)= 113.48\n",
            "differential_evolution step 12: f(x)= 113.48\n",
            "differential_evolution step 13: f(x)= 113.48\n",
            "differential_evolution step 14: f(x)= 110.674\n",
            "differential_evolution step 15: f(x)= 102.099\n",
            "differential_evolution step 16: f(x)= 102.099\n",
            "differential_evolution step 17: f(x)= 102.099\n",
            "differential_evolution step 18: f(x)= 102.099\n",
            "differential_evolution step 19: f(x)= 102.099\n",
            "differential_evolution step 20: f(x)= 102.099\n",
            "differential_evolution step 21: f(x)= 97.4184\n",
            "differential_evolution step 22: f(x)= 94.4081\n",
            "differential_evolution step 23: f(x)= 94.4081\n",
            "differential_evolution step 24: f(x)= 90.1673\n",
            "differential_evolution step 25: f(x)= 90.1673\n",
            "differential_evolution step 26: f(x)= 90.1673\n",
            "differential_evolution step 27: f(x)= 90.1673\n",
            "differential_evolution step 28: f(x)= 90.1673\n",
            "differential_evolution step 29: f(x)= 90.1673\n",
            "differential_evolution step 30: f(x)= 90.1673\n",
            "differential_evolution step 31: f(x)= 86.7371\n",
            "differential_evolution step 32: f(x)= 86.7371\n",
            "differential_evolution step 33: f(x)= 86.7371\n",
            "differential_evolution step 34: f(x)= 86.7371\n",
            "differential_evolution step 35: f(x)= 86.7371\n",
            "differential_evolution step 36: f(x)= 86.7371\n",
            "differential_evolution step 37: f(x)= 86.4183\n",
            "differential_evolution step 38: f(x)= 86.4183\n",
            "differential_evolution step 39: f(x)= 86.4183\n",
            "differential_evolution step 40: f(x)= 86.4183\n",
            "differential_evolution step 41: f(x)= 83.6244\n",
            "differential_evolution step 42: f(x)= 83.6244\n",
            "differential_evolution step 43: f(x)= 83.6244\n",
            "differential_evolution step 44: f(x)= 82.2799\n",
            "differential_evolution step 45: f(x)= 81.431\n",
            "differential_evolution step 46: f(x)= 81.431\n",
            "differential_evolution step 47: f(x)= 81.431\n",
            "differential_evolution step 48: f(x)= 81.431\n",
            "differential_evolution step 49: f(x)= 81.431\n",
            "differential_evolution step 50: f(x)= 81.431\n",
            "differential_evolution step 51: f(x)= 81.431\n",
            "differential_evolution step 52: f(x)= 81.3682\n",
            "differential_evolution step 53: f(x)= 81.3682\n",
            "differential_evolution step 54: f(x)= 81.3682\n",
            "differential_evolution step 55: f(x)= 81.3682\n",
            "differential_evolution step 56: f(x)= 81.3682\n",
            "differential_evolution step 57: f(x)= 81.3682\n",
            "differential_evolution step 58: f(x)= 81.3682\n",
            "differential_evolution step 59: f(x)= 81.1747\n",
            "differential_evolution step 60: f(x)= 81.1747\n",
            "differential_evolution step 61: f(x)= 80.6487\n",
            "differential_evolution step 62: f(x)= 80.6487\n",
            "differential_evolution step 63: f(x)= 80.6487\n",
            "differential_evolution step 64: f(x)= 80.6487\n",
            "differential_evolution step 65: f(x)= 80.4681\n",
            "differential_evolution step 66: f(x)= 80.4681\n",
            "differential_evolution step 67: f(x)= 80.4425\n",
            "differential_evolution step 68: f(x)= 80.2467\n",
            "differential_evolution step 69: f(x)= 80.2467\n",
            "differential_evolution step 70: f(x)= 80.2467\n",
            "differential_evolution step 71: f(x)= 80.0514\n",
            "differential_evolution step 72: f(x)= 79.5051\n",
            "differential_evolution step 73: f(x)= 79.5051\n",
            "differential_evolution step 74: f(x)= 79.5051\n",
            "differential_evolution step 75: f(x)= 79.4292\n",
            "differential_evolution step 76: f(x)= 79.1724\n",
            "differential_evolution step 77: f(x)= 79.1724\n",
            "differential_evolution step 78: f(x)= 79.1724\n",
            "differential_evolution step 79: f(x)= 78.8458\n",
            "differential_evolution step 80: f(x)= 78.8458\n",
            "differential_evolution step 81: f(x)= 78.8458\n",
            "differential_evolution step 82: f(x)= 78.8458\n",
            "differential_evolution step 83: f(x)= 78.6894\n",
            "differential_evolution step 84: f(x)= 78.6894\n",
            "differential_evolution step 85: f(x)= 78.6894\n",
            "differential_evolution step 86: f(x)= 78.6894\n",
            "differential_evolution step 87: f(x)= 78.6566\n",
            "differential_evolution step 88: f(x)= 78.6566\n",
            "differential_evolution step 89: f(x)= 78.6566\n",
            "differential_evolution step 90: f(x)= 78.6566\n",
            "differential_evolution step 91: f(x)= 78.6566\n",
            "differential_evolution step 92: f(x)= 78.6566\n",
            "differential_evolution step 93: f(x)= 78.6566\n",
            "differential_evolution step 94: f(x)= 78.2755\n",
            "differential_evolution step 95: f(x)= 78.1998\n",
            "CPU times: user 25min 40s, sys: 4.13 s, total: 25min 44s\n",
            "Wall time: 25min 48s\n"
          ]
        }
      ]
    },
    {
      "cell_type": "code",
      "metadata": {
        "id": "VXWSqATWk7OI",
        "colab": {
          "base_uri": "https://localhost:8080/"
        },
        "outputId": "b409b0da-8a93-4c0b-dda0-5b9dadf86412"
      },
      "source": [
        "%%time\n",
        "import scipy.optimize as optimize\n",
        "# xrand = (np.random.uniform(Mpmax,Mpmin),np.random.uniform(0,0.95),)\n",
        "xrand = (np.random.uniform(Kmin,Kmax),np.random.uniform(0,0.95),np.random.uniform(0,2*pi),np.random.uniform(t0min,t0max),np.random.uniform(z0min,z0max), np.random.uniform(15.,30.))\n",
        "resultsimp2 = optimize.minimize(WRMS, xrand, method='nelder-mead', options={'xatol': 1e-8, 'disp': True, 'maxiter':200000})   #disp=True si queremos ver como avanza."
      ],
      "execution_count": null,
      "outputs": [
        {
          "output_type": "stream",
          "name": "stdout",
          "text": [
            "Optimization terminated successfully.\n",
            "         Current function value: 80.713835\n",
            "         Iterations: 1370\n",
            "         Function evaluations: 2285\n",
            "CPU times: user 56.4 s, sys: 159 ms, total: 56.6 s\n",
            "Wall time: 56.7 s\n"
          ]
        }
      ]
    },
    {
      "cell_type": "code",
      "metadata": {
        "colab": {
          "base_uri": "https://localhost:8080/"
        },
        "id": "a3oELLIQUAfU",
        "outputId": "3e5fbce6-f081-4426-e44c-1e00ec7cb219"
      },
      "source": [
        "%%time\n",
        "Nfeval = 1\n",
        "def callbackF(Xi):\n",
        "    global Nfeval\n",
        "    if Nfeval % 20 == 0:\n",
        "      print (Nfeval, Xi[1], WRMS(Xi))\n",
        "    Nfeval += 1\n",
        "    \n",
        "result = optimize.minimize(WRMS, resultga0.x, method='Nelder-Mead', tol=1e-10, callback=callbackF)\n",
        "#result = optimize.minimize(WRMS, xrand, method='Nelder-Mead', tol=1e-10, callback=callbackF)\n"
      ],
      "execution_count": null,
      "outputs": [
        {
          "output_type": "stream",
          "name": "stdout",
          "text": [
            "20 0.9329667845083969 78.19978282493986\n",
            "40 0.9325246882447806 78.13800052765542\n",
            "60 0.9320161774541083 78.07311032561601\n",
            "80 0.9296382205668805 77.95277994514218\n",
            "100 0.9295607851106167 77.91922108292181\n",
            "120 0.9299254015813467 77.9038174414599\n",
            "140 0.9299233638618536 77.90283782473763\n",
            "160 0.9299436168311082 77.9019561744671\n",
            "180 0.9301161092860064 77.90067790505918\n",
            "200 0.9301390805877889 77.89935192044791\n",
            "220 0.9301264323406819 77.89757302879933\n",
            "240 0.9301029361957536 77.89605641268578\n",
            "260 0.9299858398464345 77.89023623253836\n",
            "280 0.929984446947726 77.88906227563936\n",
            "300 0.929970015063744 77.88888493905269\n",
            "320 0.9299225627045176 77.88860902261503\n",
            "340 0.9299015204531729 77.88854130948995\n",
            "360 0.9299065901891859 77.88853179051081\n",
            "380 0.9299068794230527 77.88852707215663\n",
            "400 0.9299049118197542 77.88852673293336\n",
            "420 0.9299060265654471 77.8885263353285\n",
            "440 0.9299062708072013 77.88852625659949\n",
            "460 0.9299063009660671 77.88852591820685\n",
            "480 0.9299064025120864 77.8885258455939\n",
            "500 0.9299064557980972 77.88852583244608\n",
            "520 0.929906473972862 77.88852583114259\n",
            "540 0.9299064659765897 77.8885258302995\n",
            "560 0.9299064823548193 77.88852583010487\n",
            "580 0.9299064894305484 77.88852583001815\n",
            "600 0.9299064990760657 77.88852582993987\n",
            "620 0.9299065011635641 77.88852582991865\n",
            "640 0.9299065007219764 77.88852582991473\n",
            "660 0.9299065008142358 77.888525829913\n",
            "CPU times: user 48.2 s, sys: 152 ms, total: 48.4 s\n",
            "Wall time: 48.5 s\n"
          ]
        }
      ]
    },
    {
      "cell_type": "code",
      "metadata": {
        "colab": {
          "base_uri": "https://localhost:8080/"
        },
        "id": "4PjMZb0b3O7f",
        "outputId": "7a2d1a74-9c45-46ed-8738-71123ad3c5d0"
      },
      "source": [
        "%%time\n",
        "Nfeval = 1\n",
        "def callbackF(Xi):\n",
        "    global Nfeval\n",
        "    if Nfeval % 20 == 0:\n",
        "      print (Nfeval, Xi[1], WRMS(Xi))\n",
        "    Nfeval += 1\n",
        "    \n",
        "resultrand = optimize.minimize(WRMS, xrand, method='Nelder-Mead', tol=1e-10, callback=callbackF)"
      ],
      "execution_count": null,
      "outputs": [
        {
          "output_type": "stream",
          "name": "stdout",
          "text": [
            "20 0.5386753294463443 315.80758584181734\n",
            "40 0.5663209791893229 287.16255601729847\n",
            "60 0.6033024560359077 269.19245745361786\n",
            "80 0.6102937388831533 247.31970192997306\n",
            "100 0.6671464345634674 187.03521097936388\n",
            "120 0.7101666959548865 169.39769826310052\n",
            "140 0.7116143626329074 162.21479525777713\n",
            "160 0.6702868315930786 139.8392480001377\n",
            "180 0.6770508234466048 130.46352083610276\n",
            "200 0.6832426169797063 125.16894386991274\n",
            "220 0.6990031971656916 122.18457810633357\n",
            "240 0.7360800677167765 120.84661975912346\n",
            "260 0.7347194120224199 115.27208319231535\n",
            "280 0.7375803062481123 110.75516743114875\n",
            "300 0.7267583406809306 108.02403133772677\n",
            "320 0.7394289361906625 105.0565536697898\n",
            "340 0.7104706604950866 96.93390625097813\n",
            "360 0.7207203663314545 94.26620659753831\n",
            "380 0.7207691093668314 92.0869010806242\n",
            "400 0.734130172016902 90.78200162401579\n",
            "420 0.7369994179982653 90.3168818224947\n",
            "440 0.759117266972146 86.95914263050014\n",
            "460 0.763796696674949 85.49047461516706\n",
            "480 0.7859334174323305 82.73278946053357\n",
            "500 0.7934709398500739 81.55671844808833\n",
            "520 0.7961755599197198 81.24913038727202\n",
            "540 0.8133244608419563 80.7993054732778\n",
            "560 0.8188309576943846 80.74483388705465\n",
            "580 0.8175335316336423 80.72560067216341\n",
            "600 0.817775837717703 80.72031366073342\n",
            "620 0.8179135835567922 80.7198385301808\n",
            "640 0.8179384731919586 80.71973826990454\n",
            "660 0.8179428079807214 80.71959151304407\n",
            "680 0.8178710066461776 80.71857794433504\n",
            "700 0.818101631620948 80.71429312186146\n",
            "720 0.8179688564045552 80.71397792526797\n",
            "740 0.8180139229893924 80.71389344749664\n",
            "CPU times: user 28 s, sys: 112 ms, total: 28.2 s\n",
            "Wall time: 28.2 s\n"
          ]
        }
      ]
    },
    {
      "cell_type": "code",
      "metadata": {
        "id": "yh664Fw01cD_"
      },
      "source": [
        ""
      ],
      "execution_count": null,
      "outputs": []
    },
    {
      "cell_type": "code",
      "metadata": {
        "colab": {
          "base_uri": "https://localhost:8080/",
          "height": 295
        },
        "id": "15bYXP1ZUAra",
        "outputId": "4ca07168-abd5-4986-8469-2aa273aa0f06"
      },
      "source": [
        "tga,  tauga       = synt(resultga0.x)\n",
        "tgass,taugass     = synt(resultsimp2.x)\n",
        "tcallb,taucallb     = synt(result.x)\n",
        "\n",
        "plt.xlabel('day')\n",
        "plt.ylabel(r'$\\tau [s]$');\n",
        "plt.savefig('Fig10-Bours2016.png')\n",
        "plt.plot(tga  ,tauga,   label=\"Params Alg Gen\")\n",
        "plt.plot(tgass,taugass, label=\"Params simplex\")\n",
        "plt.plot(tcallb,taucallb, label=\"Params simplex 2\")\n",
        "plt.scatter(t,taur)\n",
        "plt.legend()"
      ],
      "execution_count": null,
      "outputs": [
        {
          "output_type": "execute_result",
          "data": {
            "text/plain": [
              "<matplotlib.legend.Legend at 0x7ff031c178d0>"
            ]
          },
          "metadata": {},
          "execution_count": 26
        },
        {
          "output_type": "display_data",
          "data": {
            "image/png": "[encoded data removed]",
            "text/plain": [
              "<Figure size 432x288 with 1 Axes>"
            ]
          },
          "metadata": {
            "needs_background": "light"
          }
        }
      ]
    },
    {
      "cell_type": "code",
      "metadata": {
        "colab": {
          "base_uri": "https://localhost:8080/"
        },
        "id": "vSAytkL-23ef",
        "outputId": "31a06a6c-9c99-4128-bad7-0bc39e89a70e"
      },
      "source": [
        "print('Algoritmos', *resultga0.x)\n",
        "print('Simplex',  *result.x)\n"
      ],
      "execution_count": null,
      "outputs": [
        {
          "output_type": "stream",
          "name": "stdout",
          "text": [
            "Algoritmos 191.25783973199225 0.9329667845083969 3.325771819780579 53375.321259695 -8.238676419549583 29.67741995753024\n",
            "Simplex 188.48383169651643 0.9299065008142358 3.3318420581535753 53405.5364700471 -7.40864887938889 29.999999999999744\n"
          ]
        }
      ]
    },
    {
      "cell_type": "code",
      "metadata": {
        "id": "qvNg8nTon3jb",
        "colab": {
          "base_uri": "https://localhost:8080/",
          "height": 230
        },
        "outputId": "4e65b34f-b845-44f2-ea6d-84fd32587c1a"
      },
      "source": [
        "# Obtengo O-C \n",
        "plt.figure(figsize=(5,3))\n",
        "secD = 24*60*60                # segundos en un día\n",
        "plt.scatter(T, (T-(p[1]+p[0]*E))*secD, s=6, c=Obs, cmap='jet')\n",
        "#plt.title('O-C', fontsize=20)"
      ],
      "execution_count": null,
      "outputs": [
        {
          "output_type": "error",
          "ename": "ValueError",
          "evalue": "ignored",
          "traceback": [
            "\u001b[0;31m---------------------------------------------------------------------------\u001b[0m",
            "\u001b[0;31mValueError\u001b[0m                                Traceback (most recent call last)",
            "\u001b[0;32m<ipython-input-28-67bcb158c1de>\u001b[0m in \u001b[0;36m<module>\u001b[0;34m()\u001b[0m\n\u001b[1;32m      2\u001b[0m \u001b[0mplt\u001b[0m\u001b[0;34m.\u001b[0m\u001b[0mfigure\u001b[0m\u001b[0;34m(\u001b[0m\u001b[0mfigsize\u001b[0m\u001b[0;34m=\u001b[0m\u001b[0;34m(\u001b[0m\u001b[0;36m5\u001b[0m\u001b[0;34m,\u001b[0m\u001b[0;36m3\u001b[0m\u001b[0;34m)\u001b[0m\u001b[0;34m)\u001b[0m\u001b[0;34m\u001b[0m\u001b[0;34m\u001b[0m\u001b[0m\n\u001b[1;32m      3\u001b[0m \u001b[0msecD\u001b[0m \u001b[0;34m=\u001b[0m \u001b[0;36m24\u001b[0m\u001b[0;34m*\u001b[0m\u001b[0;36m60\u001b[0m\u001b[0;34m*\u001b[0m\u001b[0;36m60\u001b[0m                \u001b[0;31m# segundos en un día\u001b[0m\u001b[0;34m\u001b[0m\u001b[0;34m\u001b[0m\u001b[0m\n\u001b[0;32m----> 4\u001b[0;31m \u001b[0mplt\u001b[0m\u001b[0;34m.\u001b[0m\u001b[0mscatter\u001b[0m\u001b[0;34m(\u001b[0m\u001b[0mT\u001b[0m\u001b[0;34m,\u001b[0m \u001b[0;34m(\u001b[0m\u001b[0mT\u001b[0m\u001b[0;34m-\u001b[0m\u001b[0;34m(\u001b[0m\u001b[0mp\u001b[0m\u001b[0;34m[\u001b[0m\u001b[0;36m1\u001b[0m\u001b[0;34m]\u001b[0m\u001b[0;34m+\u001b[0m\u001b[0mp\u001b[0m\u001b[0;34m[\u001b[0m\u001b[0;36m0\u001b[0m\u001b[0;34m]\u001b[0m\u001b[0;34m*\u001b[0m\u001b[0mE\u001b[0m\u001b[0;34m)\u001b[0m\u001b[0;34m)\u001b[0m\u001b[0;34m*\u001b[0m\u001b[0msecD\u001b[0m\u001b[0;34m,\u001b[0m \u001b[0ms\u001b[0m\u001b[0;34m=\u001b[0m\u001b[0;36m6\u001b[0m\u001b[0;34m,\u001b[0m \u001b[0mc\u001b[0m\u001b[0;34m=\u001b[0m\u001b[0mObs\u001b[0m\u001b[0;34m,\u001b[0m \u001b[0mcmap\u001b[0m\u001b[0;34m=\u001b[0m\u001b[0;34m'jet'\u001b[0m\u001b[0;34m)\u001b[0m\u001b[0;34m\u001b[0m\u001b[0;34m\u001b[0m\u001b[0m\n\u001b[0m\u001b[1;32m      5\u001b[0m \u001b[0;31m#plt.title('O-C', fontsize=20)\u001b[0m\u001b[0;34m\u001b[0m\u001b[0;34m\u001b[0m\u001b[0;34m\u001b[0m\u001b[0m\n",
            "\u001b[0;31mValueError\u001b[0m: operands could not be broadcast together with shapes (105,) (360000,) "
          ]
        },
        {
          "output_type": "display_data",
          "data": {
            "text/plain": [
              "<Figure size 360x216 with 0 Axes>"
            ]
          },
          "metadata": {}
        }
      ]
    },
    {
      "cell_type": "code",
      "metadata": {
        "id": "vgtFzOCYn3jc"
      },
      "source": [
        "fig = plt.figure(figsize=(6,4.5))\n",
        "left  = 0.125  # the left side of the subplots of the figure\n",
        "right = 0.9    # the right side of the subplots of the figure\n",
        "bottom = 0.1   # the bottom of the subplots of the figure\n",
        "top = 0.9      # the top of the subplots of the figure\n",
        "wspace = 0.6   # the amount of width reserved for blank space between subplots\n",
        "hspace = 0.2   # the amount of height reserved for white space between subplots\n",
        "plt.subplots_adjust(left=left, bottom=bottom, right=right, top=top, wspace=wspace, hspace=hspace)\n",
        "\n",
        "xlin = np.arange(0,360,1)\n",
        "ylin = np.sin(xlin*rad)\n",
        "\n",
        "fig.tight_layout()\n",
        "# plt.xscale('log')\n",
        "plt.subplot(2,3,1)\n",
        "plt.scatter(xlin,ylin)\n",
        "\n",
        "plt.subplot(2,3,2)\n",
        "plt.scatter(xlin,ylin)\n",
        "\n",
        "plt.subplot(2,3,3)\n",
        "plt.scatter(xlin,ylin)\n",
        "\n",
        "\n",
        "plt.subplot(2,3,4)\n",
        "plt.scatter(xlin,ylin)\n",
        "\n",
        "\n",
        "plt.subplot(2,3,5)\n",
        "plt.scatter(xlin,ylin)\n",
        "\n",
        "\n",
        "plt.subplot(2,3,6)\n",
        "plt.scatter(xlin,ylin)\n",
        "\n"
      ],
      "execution_count": null,
      "outputs": []
    },
    {
      "cell_type": "code",
      "metadata": {
        "id": "lo90frf_h2JX"
      },
      "source": [
        ""
      ],
      "execution_count": null,
      "outputs": []
    }
  ]
}