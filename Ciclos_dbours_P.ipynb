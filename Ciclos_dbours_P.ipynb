{
  "nbformat": 4,
  "nbformat_minor": 0,
  "metadata": {
    "kernelspec": {
      "display_name": "Python 3",
      "language": "python",
      "name": "python3"
    },
    "language_info": {
      "codemirror_mode": {
        "name": "ipython",
        "version": 3
      },
      "file_extension": ".py",
      "mimetype": "text/x-python",
      "name": "python",
      "nbconvert_exporter": "python",
      "pygments_lexer": "ipython3",
      "version": "3.5.2"
    },
    "colab": {
      "name": "Ciclos-dbours-P.ipynb",
      "provenance": [],
      "collapsed_sections": [],
      "include_colab_link": true
    }
  },
  "cells": [
    {
      "cell_type": "markdown",
      "metadata": {
        "id": "view-in-github",
        "colab_type": "text"
      },
      "source": [
        "<a href=\"https://colab.research.google.com/github/Giuppone/CelMech/blob/main/Ciclos_dbours_P.ipynb\" target=\"_parent\"><img src=\"https://colab.research.google.com/assets/colab-badge.svg\" alt=\"Open In Colab\"/></a>"
      ]
    },
    {
      "cell_type": "markdown",
      "metadata": {
        "id": "-NgsKGiEn3jD"
      },
      "source": [
        "Calculo de ciclos para \"QS Vir\", requiere el archivo Datos.txt"
      ]
    },
    {
      "cell_type": "code",
      "metadata": {
        "id": "KjfqrNzIn3jH"
      },
      "source": [
        "%matplotlib inline\n",
        "import numpy as np\n",
        "import matplotlib.pyplot as plt\n",
        "import scipy.optimize as optimize\n",
        "#import pandas\n",
        "plt.style.use('default')"
      ],
      "execution_count": null,
      "outputs": []
    },
    {
      "cell_type": "code",
      "metadata": {
        "colab": {
          "base_uri": "https://localhost:8080/",
          "height": 53
        },
        "id": "zAsTzeu0oReF",
        "outputId": "a0b4e943-a471-4264-c85b-265d07a09ba3"
      },
      "source": [
        "import os\n",
        "# Let's determine the current directory and store it in a variable\n",
        "# (execute this cell only once at the beginning)\n",
        "# ayudas comandos: https://neptune.ai/blog/google-colab-dealing-with-files-2\n",
        "\n",
        "from google.colab import drive\n",
        "# drive.mount('/content/drive', force_remount=True)\n",
        "drive.mount('/content/drive', force_remount=False)\n",
        "cwd = os.getcwd()\n",
        "cwd"
      ],
      "execution_count": null,
      "outputs": [
        {
          "output_type": "stream",
          "text": [
            "Mounted at /content/drive\n"
          ],
          "name": "stdout"
        },
        {
          "output_type": "execute_result",
          "data": {
            "application/vnd.google.colaboratory.intrinsic+json": {
              "type": "string"
            },
            "text/plain": [
              "'/content'"
            ]
          },
          "metadata": {},
          "execution_count": 2
        }
      ]
    },
    {
      "cell_type": "code",
      "metadata": {
        "colab": {
          "base_uri": "https://localhost:8080/"
        },
        "id": "zHJAtw9VoSqI",
        "outputId": "2e2c1893-b8e3-445c-cff6-bf6652779b68"
      },
      "source": [
        "#drive dir\n",
        "drive_dir = \"/content/drive/MyDrive/QSvir2021\"\n",
        "os.chdir (drive_dir)\n",
        "!ls"
      ],
      "execution_count": null,
      "outputs": [
        {
          "output_type": "stream",
          "text": [
            "2pl.ipynb  Ciclos-dbours-P.ipynb  Fig10-OCwithT.png   qsvir.dat\n",
            "ae1.png    Datos.txt\t\t  Fig4-Bours2016.png  QSvir-k-fit-1pl.ipynb\n",
            "ae2.png    Fig10-Bours2016.png\t  OC.ipynb\n"
          ],
          "name": "stdout"
        }
      ]
    },
    {
      "cell_type": "code",
      "metadata": {
        "id": "IM3JT2iqn3jI"
      },
      "source": [
        ""
      ],
      "execution_count": null,
      "outputs": []
    },
    {
      "cell_type": "code",
      "metadata": {
        "id": "I2SfnD4Xn3jJ"
      },
      "source": [
        "# Leo el archivo con los datos \n",
        "Datos = np.loadtxt(\"Datos.txt\")\n",
        "#Datos = np.loadtxt(\"Datosr.txt\")\n",
        "# QS =pandas.read_csv('qsvir.dat', delim_whitespace=True)\n",
        "EB = Datos[:,0] # Eclipses Bours\n",
        "T =  Datos[:,1] # Tiempos de eclipse c/r al baricentro\n",
        "ERR = Datos[:,2] # Error en los tiempos de eclipse\n",
        "Obs = Datos[:,3] # Observador (leer Leyenda de Bours.txt para su comprensión)\n",
        "# Por ej: obs[0]=1. => El \"1\" está asociado a \"O’Donoghue et al. 2003\""
      ],
      "execution_count": null,
      "outputs": []
    },
    {
      "cell_type": "code",
      "metadata": {
        "id": "IgiYR7CrARbN"
      },
      "source": [
        "#Datos[:,0]"
      ],
      "execution_count": null,
      "outputs": []
    },
    {
      "cell_type": "code",
      "metadata": {
        "colab": {
          "base_uri": "https://localhost:8080/"
        },
        "id": "XjirBQvan3jK",
        "outputId": "70e47d79-657d-4547-94ae-10084b1f0679"
      },
      "source": [
        "Porb =1.50757506e-01\n",
        "Porb1=T[1]-T[0]\n",
        "print (Porb,Porb1,', diferencia en segundos=', abs(Porb-Porb1)*24*60*60)\n",
        "Porb2=1.5075750e-01\n",
        "# print (Porb,Porb2,', diferencia en segundos=', abs(Porb-Porb2)*24*60)\n",
        "# print(T[1]-T[0],T[1],T[0],2,Porb2-Porb)"
      ],
      "execution_count": null,
      "outputs": [
        {
          "output_type": "stream",
          "text": [
            "0.150757506 0.15077999999630265 , diferencia en segundos= 1.9434812805477542\n"
          ],
          "name": "stdout"
        }
      ]
    },
    {
      "cell_type": "code",
      "metadata": {
        "id": "9HbfjaJvn3jN"
      },
      "source": [
        "Porb = (T[1]-T[0])\n",
        "Porb = Porb2\n",
        "#print (Porb)\n",
        "E1 = 171+np.round( (T-T[0])/Porb )  #ojo página 17 paper  Sterken+2005 \n",
        "#E1 = 171+np.round( (T-T[0])/Porb )  #ojo página 17 paper  Sterken+2005 \n",
        "E=np.zeros(len(E1)) #esto lo borro\n",
        "# plt.xlim()\n",
        "ij = 0\n",
        "while ij<len(E1):\n",
        "    E[ij]=ij\n",
        "#     print (ij, E[ij], E1[ij], EB[ij])\n",
        "    ij=ij+1"
      ],
      "execution_count": null,
      "outputs": []
    },
    {
      "cell_type": "code",
      "metadata": {
        "colab": {
          "base_uri": "https://localhost:8080/",
          "height": 283
        },
        "id": "l0_U8R9zn3jO",
        "outputId": "72c5272f-5867-4487-b6f4-ce39daee74c3"
      },
      "source": [
        "plt.scatter(E,EB-E1) #anda todo bien!!\n",
        "plt.ylabel('E_{Bours}-E_{nuestro}')\n",
        "plt.ylabel('# dato')\n",
        "#plt.xlim(0,20)"
      ],
      "execution_count": null,
      "outputs": [
        {
          "output_type": "execute_result",
          "data": {
            "text/plain": [
              "Text(0, 0.5, '# dato')"
            ]
          },
          "metadata": {},
          "execution_count": 12
        },
        {
          "output_type": "display_data",
          "data": {
            "image/png": "[encoded data removed]",
            "text/plain": [
              "<Figure size 432x288 with 1 Axes>"
            ]
          },
          "metadata": {
            "needs_background": "light"
          }
        }
      ]
    },
    {
      "cell_type": "code",
      "metadata": {
        "id": "AsKG4QWgn3jX"
      },
      "source": [
        "#OJO el E lo vuelvo a lo q era antes\n",
        "E=E1"
      ],
      "execution_count": null,
      "outputs": []
    },
    {
      "cell_type": "code",
      "metadata": {
        "colab": {
          "base_uri": "https://localhost:8080/"
        },
        "id": "AFHbTf_0n3jY",
        "outputId": "7215e71a-fd8e-41ee-8b0a-dd6976821551"
      },
      "source": [
        "#resultAG NO ANDA !!! \n",
        "# AJUSTE LINEAL!!\n",
        "#TE = t0 + Porb*E\n",
        "# x=E[0:20]\n",
        "# y=T[0:20]\n",
        "x=E\n",
        "y=T\n",
        "p= np.polyfit(x, y, 1, rcond=None, full=False, w=None, cov=False)\n",
        "p\n",
        "\n",
        "p2=np.polyfit(x, y, 2, rcond=None, full=False, w=None, cov=False)\n",
        "p2\n",
        "\n",
        "# p3=np.polyfit(x, y, 3, rcond=None, full=False, w=None, cov=False)\n",
        "# p3\n",
        "\n",
        "print (p[0],p[1])\n",
        "print (p2[0],p2[1],p2[2])\n",
        "# print (p3)"
      ],
      "execution_count": null,
      "outputs": [
        {
          "output_type": "stream",
          "text": [
            "0.15075747464852973 48689.14152030193\n",
            "7.370148339791296e-13 0.15075743599197833 48689.14177586773\n"
          ],
          "name": "stdout"
        }
      ]
    },
    {
      "cell_type": "code",
      "metadata": {
        "colab": {
          "base_uri": "https://localhost:8080/"
        },
        "id": "SmBFnvlKokE9",
        "outputId": "775db706-ff27-4401-cb8b-32c4482c2c37"
      },
      "source": [
        "pdot=p2[0]/(0.5*p2[1]) #[d/s]\n",
        "print (pdot)"
      ],
      "execution_count": null,
      "outputs": [
        {
          "output_type": "stream",
          "text": [
            "9.777492289247284e-12\n"
          ],
          "name": "stdout"
        }
      ]
    },
    {
      "cell_type": "code",
      "metadata": {
        "colab": {
          "base_uri": "https://localhost:8080/",
          "height": 411
        },
        "id": "HSH50R1zn3jZ",
        "outputId": "351ab358-7032-4a0e-c2d1-731be2c39b5f"
      },
      "source": [
        "# Grafico Tiempos de eclipse vs ciclos\n",
        "plt.figure(figsize=(10,6))\n",
        "\n",
        "Tc  =  p[1]+p[0]*E \n",
        "Tc2 = p2[2]+p2[1]*E+(p2[0])*E**2\n",
        "\n",
        "plt.plot(E, Tc, color='red', label='Efeméride lineal', lw=4, zorder=-3)\n",
        "plt.plot(E, Tc2, color='blue', label='Efeméride Cuadrática', zorder=-2)\n",
        "plt.scatter(E, T, color='black', label='Datos', s=8)\n",
        "\n",
        "# plt.title('Ajuste', fontsize=20)\n",
        "plt.xlabel('Ciclo', fontsize=15)\n",
        "plt.ylabel('$T_c$ [días]', fontsize=15);\n",
        "# plt.xlim(50000,52000)\n",
        "plt.text(2e4,5e4,'las curvas lineal y cuadrática son indistinguibles')"
      ],
      "execution_count": null,
      "outputs": [
        {
          "output_type": "execute_result",
          "data": {
            "text/plain": [
              "Text(20000.0, 50000.0, 'las curvas lineal y cuadrática son indistinguibles')"
            ]
          },
          "metadata": {},
          "execution_count": 25
        },
        {
          "output_type": "display_data",
          "data": {
            "image/png": "[encoded data removed]",
            "text/plain": [
              "<Figure size 720x432 with 1 Axes>"
            ]
          },
          "metadata": {
            "needs_background": "light"
          }
        }
      ]
    },
    {
      "cell_type": "code",
      "metadata": {
        "colab": {
          "base_uri": "https://localhost:8080/",
          "height": 225
        },
        "id": "qvNg8nTon3jb",
        "outputId": "f44c2252-0768-4ca8-8a1c-3c3df29833df"
      },
      "source": [
        "# Obtengo O-C \n",
        "plt.figure(figsize=(5,3))\n",
        "secD = 24*60*60                # segundos en un día\n",
        "plt.scatter(T, (T-(p[1]+p[0]*E))*secD, s=6, c=Obs, cmap='jet')\n",
        "plt.scatter(T, (T-(p2[2]+p2[1]*E+(p2[0])*E**2))*secD, c='gray', zorder=-2,edgecolor='black')\n",
        "# plt.scatter(T, (T-(p3[3]+p3[2]*E+(p3[1])*E**2+(p3[0])*E**3))*secD, c='pink', zorder=-2,edgecolor='black')\n",
        "\n",
        "### Por que hacer hasta el cuadrático? \n",
        "#plt.title('O-C', fontsize=20)\n",
        "plt.xlabel('day')\n",
        "plt.ylabel(r'$\\tau [s]$');\n",
        "plt.savefig('Fig10-Bours2016.png')"
      ],
      "execution_count": null,
      "outputs": [
        {
          "output_type": "display_data",
          "data": {
            "image/png": "[encoded data removed]",
            "text/plain": [
              "<Figure size 360x216 with 1 Axes>"
            ]
          },
          "metadata": {
            "needs_background": "light"
          }
        }
      ]
    },
    {
      "cell_type": "code",
      "metadata": {
        "id": "Yt3Kaween3jc"
      },
      "source": [
        ""
      ],
      "execution_count": null,
      "outputs": []
    },
    {
      "cell_type": "code",
      "metadata": {
        "colab": {
          "base_uri": "https://localhost:8080/",
          "height": 225
        },
        "id": "lUvlBicKqvAi",
        "outputId": "473c40ff-aaa6-4860-94ad-a6b333fab99e"
      },
      "source": [
        "# Obtengo O-C \n",
        "plt.figure(figsize=(5,3))\n",
        "secD = 24*60*60                # segundos en un día\n",
        "dif = (p[1]+p[0]*E)*secD-(p2[2]+p2[1]*E+(p2[0])*E**2)*secD\n",
        "plt.scatter(T, dif, s=6, c=Obs, cmap='jet')\n",
        "# plt.scatter(T, (T-(p2[2]+p2[1]*E+(p2[0])*E**2))*secD, c='gray', zorder=-2,edgecolor='black')\n",
        "# plt.scatter(T, (T-(p3[3]+p3[2]*E+(p3[1])*E**2+(p3[0])*E**3))*secD, c='pink', zorder=-2,edgecolor='black')\n",
        "\n",
        "### Por que hacer hasta el cuadrático? \n",
        "#plt.title('O-C', fontsize=20)\n",
        "plt.xlabel('day')\n",
        "plt.ylabel(r'$linear - cuadratic [s]$');\n",
        "plt.savefig('compara.png')"
      ],
      "execution_count": null,
      "outputs": [
        {
          "output_type": "display_data",
          "data": {
            "image/png": "[encoded data removed]",
            "text/plain": [
              "<Figure size 360x216 with 1 Axes>"
            ]
          },
          "metadata": {
            "needs_background": "light"
          }
        }
      ]
    },
    {
      "cell_type": "code",
      "metadata": {
        "id": "vgtFzOCYn3jc"
      },
      "source": [
        ""
      ],
      "execution_count": null,
      "outputs": []
    }
  ]
}