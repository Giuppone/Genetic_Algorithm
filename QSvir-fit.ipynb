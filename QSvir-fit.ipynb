{
 "cells": [
  {
   "cell_type": "markdown",
   "metadata": {},
   "source": [
    "@ C. Giuppone . Reduccion de datos para detectar binarias . 26/5/2020. $corregido 2/6$"
   ]
  },
  {
   "cell_type": "code",
   "execution_count": 1,
   "metadata": {
    "collapsed": true
   },
   "outputs": [],
   "source": [
    "import numpy as np\n",
    "%matplotlib inline\n",
    "import matplotlib.pyplot as plt\n",
    "import rebound\n",
    "from math import *    #importa todas las operaciones matemáticas de math (sin, cos, tan, sqrt, pi, etc)"
   ]
  },
  {
   "cell_type": "code",
   "execution_count": 2,
   "metadata": {
    "collapsed": true
   },
   "outputs": [],
   "source": [
    "#anomalía eccéntrica\n",
    "def ae(e,M):\n",
    "    E = M #Valor inicial para iteración\n",
    "    i = 0\n",
    "    while True:\n",
    "        E0 = E\n",
    "        E = M + e*np.sin(E0)\n",
    "        i = i+1\n",
    "        D = (E-E0).astype('float')\n",
    "        if (abs(D)<0.0001):\n",
    "            return E\n",
    "            break\n",
    "#Anomalía verdadera:  Tan(F/2) = ee*Tan(E/2) #giuppone\n",
    "def F(e,M):\n",
    "    ee=np.sqrt((1+e)/(1-e))\n",
    "    \n",
    "    ss = sqrt(1. + e)*sin(ae(e,M)/2.)\n",
    "    cs = sqrt(1. - e)*cos(ae(e,M)/2.)\n",
    "    F   = 2*atan2(ss,cs)   #anomalía verdadera en cuadrante correcto\n",
    "    return F            "
   ]
  },
  {
   "cell_type": "markdown",
   "metadata": {},
   "source": [
    "Constantes"
   ]
  },
  {
   "cell_type": "code",
   "execution_count": 3,
   "metadata": {
    "collapsed": true
   },
   "outputs": [],
   "source": [
    "# https://www.iau.org/public/themes/measuring/ \n",
    "uam     = 1.495978707e11\n",
    "c       = 2.99792458e8/uam #m/s/uam == ua/s\n",
    "twopi   = pi*2\n",
    "dy     = 365.25\n",
    "k      = 1.720209895e-02\n",
    "mearth = 3.04043e-6       # earth mass in solar masses\n",
    "mjup   = 9.54792e-4       #pup in solar masses\n",
    "rad    = twopi/360.0"
   ]
  },
  {
   "cell_type": "code",
   "execution_count": 4,
   "metadata": {},
   "outputs": [
    {
     "data": {
      "text/plain": [
       "110.97786295129742"
      ]
     },
     "execution_count": 4,
     "metadata": {},
     "output_type": "execute_result"
    }
   ],
   "source": [
    "F(0.1,100*rad)/rad"
   ]
  },
  {
   "cell_type": "markdown",
   "metadata": {},
   "source": [
    "DATOS"
   ]
  },
  {
   "cell_type": "code",
   "execution_count": 5,
   "metadata": {
    "collapsed": true
   },
   "outputs": [],
   "source": [
    "m0=0.78\n",
    "m1=0.43\n",
    "\n",
    "eb=0.\n",
    "pb=0.1507574  #days  #Porb;bin = 3:168 horas (O'Donoghue et al. 2003).\n",
    "\n",
    "mp=52.7*mjup  #0.05033\n",
    "pp=18.96   #years\n",
    "ep=0.95\n",
    "w = 206*rad\n",
    "T0 =2453831. \n",
    "Me = m0+m1"
   ]
  },
  {
   "cell_type": "markdown",
   "metadata": {},
   "source": [
    "Resultados   a= (P/2pi)^2 (k^2*(M0+M1) ) "
   ]
  },
  {
   "cell_type": "code",
   "execution_count": 6,
   "metadata": {},
   "outputs": [
    {
     "name": "stdout",
     "output_type": "stream",
     "text": [
      "0.005907203488090955 7.680333532161486 0.0503175384\n"
     ]
    }
   ],
   "source": [
    "# semieje del planeta alrededor de la orbita relativa\n",
    "arel  = ((18.96*365.25/(twopi))**2*k*k*(mp+0.78+0.43))**(1./3.)\n",
    "#ap    = ((18.96*365.25/(twopi))**2*k*k*(0.0+0.78+0.43))**(1./3.)\n",
    "\n",
    "ab = ((0.1507574/(twopi))**2*k*k*(0.78+0.43))**(1./3.)\n",
    "\n",
    "#calcular las órbitas para tiempo 120 dias después del pasaje por el pericentro. #JD\n",
    "t  = 2453831.+120\n",
    "n  = twopi/(pp*dy)\n",
    "M  = n*(t-T0)\n",
    "inc0 = 76*rad   # Latković\n",
    "print (ab,arel,mp)"
   ]
  },
  {
   "cell_type": "markdown",
   "metadata": {},
   "source": [
    "Dibujar juntos los datos de los tiempos de tránsito de QS-vir"
   ]
  },
  {
   "cell_type": "code",
   "execution_count": 7,
   "metadata": {
    "collapsed": true
   },
   "outputs": [],
   "source": [
    "data =np.loadtxt('qsvir.dat',usecols=(1,2,3))\n",
    "t = data[:,0]   #time\n",
    "ti   = t[0]\n",
    "tr   = t-t[0]  #gave time with respect to first observation\n",
    "taur  = data[:,1]\n",
    "etaur = data[:,2]"
   ]
  },
  {
   "cell_type": "code",
   "execution_count": 11,
   "metadata": {},
   "outputs": [
    {
     "name": "stdout",
     "output_type": "stream",
     "text": [
      "[1.50757506e-01 4.86896404e+04]\n"
     ]
    },
    {
     "data": {
      "image/png": "[encoded data removed]",
      "text/plain": [
       "<Figure size 432x288 with 1 Axes>"
      ]
     },
     "metadata": {
      "needs_background": "light"
     },
     "output_type": "display_data"
    }
   ],
   "source": [
    "x = np.loadtxt('qsvir.dat',usecols=(0)) \n",
    "y = np.loadtxt('qsvir.dat',usecols=(1)) \n",
    "model = np.polyfit(x, y, 1)\n",
    "\n",
    "plt.scatter(x,y)\n",
    "print (model)\n"
   ]
  },
  {
   "cell_type": "code",
   "execution_count": 12,
   "metadata": {},
   "outputs": [],
   "source": [
    "predict = np.poly1d(model)"
   ]
  },
  {
   "cell_type": "code",
   "execution_count": 13,
   "metadata": {},
   "outputs": [
    {
     "data": {
      "text/plain": [
       "[<matplotlib.lines.Line2D at 0x148f905f0470>]"
      ]
     },
     "execution_count": 13,
     "metadata": {},
     "output_type": "execute_result"
    },
    {
     "data": {
      "image/png": "[encoded data removed]",
      "text/plain": [
       "<Figure size 432x288 with 1 Axes>"
      ]
     },
     "metadata": {
      "needs_background": "light"
     },
     "output_type": "display_data"
    }
   ],
   "source": [
    "x_lin_reg = range(0, 70000)\n",
    "y_lin_reg = predict(x_lin_reg)\n",
    "plt.scatter(x, y)\n",
    "plt.plot(x_lin_reg, y_lin_reg, c = 'r')\n"
   ]
  },
  {
   "cell_type": "code",
   "execution_count": null,
   "metadata": {},
   "outputs": [],
   "source": [
    "\n",
    "yi = predict()\n"
   ]
  },
  {
   "cell_type": "code",
   "execution_count": 22,
   "metadata": {
    "collapsed": true
   },
   "outputs": [],
   "source": [
    "def tau(ainc,e,w,t0,z0,P,t):  #P in years #z0 in secs\n",
    "    P = P*365.25\n",
    "    n = 2*pi/P\n",
    "#    a = (G*(Mp+Me)/n**2)**(1./3.)\n",
    "    M  = n*(t-t0)\n",
    "    f  = F(e,M)\n",
    "    \n",
    "    Mp=mp\n",
    "\n",
    "#     r     = a*(1-e**2)/(1+e*cos(f))\n",
    "#     zrel  = r*sin(inc)*sin(w+f)+z0\n",
    "#     zab   zrel*Mp/(Me+Mp)\n",
    "#    z  =a*(1-e**2)/(1+e*cos(f))*sin(inc)*sin(f+w)+z0   #r*sin(inc)*sin(w+f)+z0\n",
    "    z  = ainc*Mp/(Me+Mp)*(1-e**2)/(1+e*cos(f))*sin(f+w) \n",
    "    print (f,M,z)\n",
    "    tau=z/c+z0\n",
    "    return tau"
   ]
  },
  {
   "cell_type": "markdown",
   "metadata": {},
   "source": [
    "Dibujar ambas curvas"
   ]
  },
  {
   "cell_type": "code",
   "execution_count": 23,
   "metadata": {},
   "outputs": [
    {
     "name": "stdout",
     "output_type": "stream",
     "text": [
      "2.7909036540848917 0.9556902132754713 -0.20743345235469338\n",
      "-103.51028505264141\n"
     ]
    }
   ],
   "source": [
    "test1 = (7, 0.9, 1, 57000, 0, 18)  \n",
    "print (tau(7, 0.9, 1, 57000, 0, 18, 58000))\n"
   ]
  },
  {
   "cell_type": "code",
   "execution_count": 10,
   "metadata": {},
   "outputs": [
    {
     "data": {
      "image/png": "[encoded data removed]",
      "text/plain": [
       "<Figure size 432x288 with 1 Axes>"
      ]
     },
     "metadata": {
      "needs_background": "light"
     },
     "output_type": "display_data"
    }
   ],
   "source": [
    "#plt.scatter(times,z[1]/c*mp/(m0+m1+mp), label='n-body')\n",
    "plt.scatter(tr,taur, label='observations')\n",
    "#plt.plot(times*1.3,(z[1]/c*mp/(m0+m1+mp))*1.5-90, label='n-body corrected')\n",
    "#plt.xlim(0,7000)\n",
    "plt.xlabel('Time [JD]')\n",
    "#plt.ylim(-30,141)\n",
    "plt.ylabel(r'$\\tau=z/c = O-C [m/s]$')\n",
    "plt.legend()\n",
    "plt.show()\n"
   ]
  },
  {
   "cell_type": "code",
   "execution_count": 11,
   "metadata": {
    "collapsed": true
   },
   "outputs": [],
   "source": [
    "#Construct syntethic curves\n",
    "def synt(Params):    #genera una curva de \"z\" con params\n",
    "    ainc,e,w,t0,z0,P = Params\n",
    "    Zsy =[]   #velocidad radial sintética (genero una curva continua sin errores)\n",
    "    Tsy =[]\n",
    "    nf=1000\n",
    "    delta=max(t)-min(t)\n",
    "    ij=0\n",
    "#    print (min(t),delta)\n",
    "    while ij < nf:\n",
    "        tsy=min(t)+delta*ij/nf\n",
    "        Zsy.append(tau(ainc,e,w,t0,z0,P,tsy))\n",
    "        Tsy.append(tsy)\n",
    "        ij = ij+1\n",
    "#        print (tsy,ij)       \n",
    "    return Tsy,Zsy   \n",
    "\n",
    "def OC(Params):    #genera una curva de velocidad radial con params\n",
    "    ainc,e,w,t0,z0,P = Params\n",
    "    BOC   =[]\n",
    "    TOC   =[] \n",
    "    ij=0\n",
    "    while ij < len(t):\n",
    "        BOC.append(tau(ainc,e,w,t0,z0,P,t=t[ij]))\n",
    "        TOC.append(t[ij])\n",
    "        ij = ij+1\n",
    "    return TOC,BOC    "
   ]
  },
  {
   "cell_type": "code",
   "execution_count": 12,
   "metadata": {},
   "outputs": [
    {
     "name": "stdout",
     "output_type": "stream",
     "text": [
      "53831 48715.419887605 48715.419887605\n"
     ]
    }
   ],
   "source": [
    "#Generate synt\n",
    "m0=0.78\n",
    "m1=0.43\n",
    "Me=m0+m1\n",
    "\n",
    "Mp=52.7*mjup  #0.05033\n",
    "pp=18.96   #years\n",
    "ainc = 7.1 #au\n",
    "ep=0.95\n",
    "w = 206*rad\n",
    "T0 =2453831-(2400000)\n",
    "z0 = 0. \n",
    "print(T0,t[0],min(t))"
   ]
  },
  {
   "cell_type": "code",
   "execution_count": 13,
   "metadata": {
    "collapsed": true
   },
   "outputs": [],
   "source": [
    "#ainc,e,w,t0,z0,P \n",
    "Params = ainc,ep,w,T0,z0,pp\n",
    "tsy0,zsy0 = synt(Params)\n",
    "Params = ainc,ep,w,57000.,z0,pp\n",
    "tsy1,zsy1 = synt(Params)\n",
    "Params = ainc,ep,w,T0,-10,pp\n",
    "tsy2,zsy2 = synt(Params)\n"
   ]
  },
  {
   "cell_type": "code",
   "execution_count": 14,
   "metadata": {},
   "outputs": [
    {
     "data": {
      "text/plain": [
       "<matplotlib.legend.Legend at 0x14d02f4e3b38>"
      ]
     },
     "execution_count": 14,
     "metadata": {},
     "output_type": "execute_result"
    },
    {
     "data": {
      "image/png": "[encoded data removed]",
      "text/plain": [
       "<Figure size 432x288 with 1 Axes>"
      ]
     },
     "metadata": {
      "needs_background": "light"
     },
     "output_type": "display_data"
    }
   ],
   "source": [
    "#the amplitude does not change with T0\n",
    "plt.scatter(tsy1,zsy1, label='fiducial T0 moved')\n",
    "plt.scatter(tsy2,zsy2, label='fiducial z moved')\n",
    "plt.scatter(tsy0,zsy0, label='fiducial')\n",
    "plt.legend()"
   ]
  },
  {
   "cell_type": "markdown",
   "metadata": {},
   "source": [
    "Maximal amplitude of TVE signal (see Woltjer 1922) <br>\n",
    "$z1-z2=a sin(inc) sin (u1)=a \\sin(inc) \\sqrt{1-e^2 cos^2(w)}$"
   ]
  },
  {
   "cell_type": "code",
   "execution_count": 15,
   "metadata": {},
   "outputs": [
    {
     "data": {
      "text/plain": [
       "<matplotlib.legend.Legend at 0x14d02f4c7710>"
      ]
     },
     "execution_count": 15,
     "metadata": {},
     "output_type": "execute_result"
    },
    {
     "data": {
      "image/png": "[encoded data removed]",
      "text/plain": [
       "<Figure size 432x288 with 1 Axes>"
      ]
     },
     "metadata": {
      "needs_background": "light"
     },
     "output_type": "display_data"
    }
   ],
   "source": [
    "#comparar con las mismas masas y ainc, pero cambiando a la región con mayor amplitud (e~0, w=206).\n",
    "# con esto nos damos cuenta cual es la región de maxima amplitud.\n",
    "#major amplitude\n",
    "Params = ainc,0.05,206*rad,T0,0.,pp\n",
    "tsy3,zsy3 = synt(Params)\n",
    "plt.scatter(tsy3,zsy3, label=r'same $\\omega$, e=0.05')\n",
    "plt.scatter(tsy1,zsy1, label='fiducial T0 moved')\n",
    "plt.scatter(tsy2,zsy2, label='fiducial z moved')\n",
    "plt.scatter(tsy0,zsy0, label='fiducial')\n",
    "plt.legend()"
   ]
  },
  {
   "cell_type": "code",
   "execution_count": 16,
   "metadata": {},
   "outputs": [
    {
     "data": {
      "text/plain": [
       "<matplotlib.collections.PathCollection at 0x14d02f455f28>"
      ]
     },
     "execution_count": 16,
     "metadata": {},
     "output_type": "execute_result"
    },
    {
     "data": {
      "image/png": "[encoded data removed]",
      "text/plain": [
       "<Figure size 432x288 with 1 Axes>"
      ]
     },
     "metadata": {
      "needs_background": "light"
     },
     "output_type": "display_data"
    }
   ],
   "source": [
    "Params = ainc,0.95,206*rad,T0,0.,pp\n",
    "toc0,zoc0  = OC(Params)\n",
    "Params = ainc,0.05,206*rad,T0,0.,pp\n",
    "toc1,zoc1  = OC(Params)\n",
    "plt.scatter(toc0,zoc0)\n",
    "plt.scatter(toc1,zoc1)"
   ]
  },
  {
   "cell_type": "code",
   "execution_count": 17,
   "metadata": {
    "collapsed": true
   },
   "outputs": [],
   "source": [
    "#Defino una WRMS que dependa de una sóla variable (que será un arreglo) (así funciona el minimizador)\n",
    "#Los DATOS que tengo son: t, taur, etaur\n",
    "#P e t0 w mp v0 = Params\n",
    "#bounds = ((aincm,aincmax), (emin,emax), (wmin, wmax), (t0min,t0max), (z0min,z0max), (Pmin,Pmax))\n",
    "def WRMS(Params):\n",
    "\n",
    "#    print (Params)\n",
    "#    print (bounds)\n",
    "    for x,r in zip(Params,bounds):    #el comando junta los datos de Params y bounds\n",
    "        if x < r[0] or x > r[1]:      #si los params son mayores o menores q los bounds retorna infinito \n",
    "      #      print (x,r[0],r[1])\n",
    "            return np.inf\n",
    "        \n",
    "    ainc,e,w,t0,z0,P = Params    #Arreglo a minimizar\n",
    "    Be=taur\n",
    "     \n",
    "#    print(taur[0:2],t[0:2])\n",
    "    VT=[]\n",
    "    ij = 0\n",
    "    while ij<len(Be):\n",
    "        VT.append(tau(ainc,e,w,t0,z0,P,t=t[ij]))\n",
    "        ij = ij + 1\n",
    "        \n",
    "    N =len(Be)\n",
    "    err   = etaur #np.sqrt(ei**2+sj**2)\n",
    "    invS  =np.sum(1./err**2)\n",
    "    Ab    =invS/N/(N-1.)\n",
    "\n",
    "    WRMS=Ab*np.sum((( VT - Be)/err)**2.)\n",
    "    return np.sqrt(WRMS)  \n",
    "\n",
    "def nWRMS(Params):\n",
    "    wi=WRMS(Params)\n",
    "    N =len(taur)\n",
    "    w2=wi*N*(N-1)\n",
    "    return -0.5*w2"
   ]
  },
  {
   "cell_type": "code",
   "execution_count": 18,
   "metadata": {},
   "outputs": [
    {
     "data": {
      "text/plain": [
       "(27.353871233722106, 9991.001468117)"
      ]
     },
     "execution_count": 18,
     "metadata": {},
     "output_type": "execute_result"
    }
   ],
   "source": [
    "(max(t)-min(t))/365.25,max(t)-min(t)"
   ]
  },
  {
   "cell_type": "code",
   "execution_count": 33,
   "metadata": {},
   "outputs": [
    {
     "data": {
      "text/plain": [
       "949.8398899642008"
      ]
     },
     "execution_count": 33,
     "metadata": {},
     "output_type": "execute_result"
    }
   ],
   "source": [
    "Params = ainc,0.95,206*rad,T0,0.,pp\n",
    "# bounds = ((aincm,aincmax), (emin,emax), (wmin, wmax), (t0min,t0max), (z0min,z0max), (Pmin,Pmax))\n",
    "Pmin=(t[2]-t[0])/dy\n",
    "Pmax=(max(t)-min(t))/dy   #in years\n",
    "t0min = min(t)\n",
    "t0max = max(t)\n",
    "z0min = min(taur)\n",
    "z0max = max(taur)\n",
    "aincmin = ((Pmin*dy/(twopi))**2*k*k*(Me))**(1./3.)\n",
    "aincmax = ((Pmax*dy/(twopi))**2*k*k*(Me))**(1./3.)\n",
    "bounds = (aincmin,aincmax), (0,0.99), (0, 2*pi), (t0min,t0max), (z0min,z0max), (Pmin,Pmax)\n",
    "bounds = (aincmin,aincmax), (0,0.99), (0, 2*pi), (t0min,t0max), (z0min,z0max), (15.,28.)\n",
    "WRMS(Params)"
   ]
  },
  {
   "cell_type": "code",
   "execution_count": 18,
   "metadata": {},
   "outputs": [],
   "source": [
    "# %%time\n",
    "# import scipy.optimize as optimize\n",
    "# #Minimize # genetics algorithm. No necesita condicion inicial...sólo bounds!\n",
    "# resultga0 = optimize.differential_evolution(WRMS, bounds, strategy='best1bin', maxiter=120, popsize=100,tol=0.01, mutation=(0.5, 1), recombination=0.7, seed=None, callback=None, disp=True, polish=True, init='latinhypercube', atol=0)   #disp=True si queremos ver como avanza.\n",
    "# resultga0.x"
   ]
  },
  {
   "cell_type": "code",
   "execution_count": 19,
   "metadata": {},
   "outputs": [],
   "source": [
    "# print(*Params)\n",
    "# print(*resultga0.x)\n",
    "# print(bounds)   #mi resultado está dando muy cerca de los BOUNDS. Repetir.\n",
    "# f = open(\"fits.txt\", \"w\")\n",
    "# print(resultga0.fun,resultga0.x[2]/rad)\n",
    "# print (\"P \",\"ainc \", \"ainc e w T0 z  P \", \"WRMS \",\"\\n\",file=f, end=' ', sep=' ')\n",
    "# print (resultga0.x[4],resultga0.x[0],*resultga0.x,resultga0.fun,\"\\n\",file=f, end=' ', sep=' ')\n",
    "# f.close()\n",
    "# print (*resultga0.x)"
   ]
  },
  {
   "cell_type": "code",
   "execution_count": 35,
   "metadata": {},
   "outputs": [
    {
     "name": "stdout",
     "output_type": "stream",
     "text": [
      "82.67461312489762 106.76369761113692\n"
     ]
    },
    {
     "data": {
      "image/png": "[encoded data removed]",
      "text/plain": [
       "<Figure size 432x288 with 1 Axes>"
      ]
     },
     "metadata": {
      "needs_background": "light"
     },
     "output_type": "display_data"
    }
   ],
   "source": [
    "#Paramssol = ainc,e,w,T0,z,P\n",
    "Paramssol0 = (9.02724903e+00, 9.11372213e-01, 3.23027678e+00, 5.31457517e+04, 1.68270052e+01, 2.73368237e+01)\n",
    "Paramssol1 = (9.38302959e+00, 9.32856790e-01, 3.17089423e+00, 5.30599905e+04, 1.66289206e+01, 2.29992555e+01)\n",
    "# tga,tauga   = synt(resultga0.x)\n",
    "tga,tauga   = synt(Paramssol0)\n",
    "tga1,tauga1 = synt(Paramssol1)\n",
    "plt.scatter(tga,tauga, label=\"Paramssol0\")\n",
    "plt.scatter(tga1,tauga1, label=\"Paramssol1\")\n",
    "plt.scatter(t,taur, label=\"Obsdata\")\n",
    "\n",
    "plt.legend()\n",
    "print (WRMS(Paramssol0),WRMS(Paramssol1))"
   ]
  },
  {
   "cell_type": "code",
   "execution_count": 38,
   "metadata": {},
   "outputs": [
    {
     "data": {
      "text/plain": [
       "<matplotlib.collections.PathCollection at 0x14d02e395ef0>"
      ]
     },
     "execution_count": 38,
     "metadata": {},
     "output_type": "execute_result"
    },
    {
     "data": {
      "image/png": "[encoded data removed]",
      "text/plain": [
       "<Figure size 432x288 with 1 Axes>"
      ]
     },
     "metadata": {
      "needs_background": "light"
     },
     "output_type": "display_data"
    }
   ],
   "source": [
    "toc0,zoc0  = OC(Paramssol0)\n",
    "toc1,zoc1  = OC(Paramssol1)\n",
    "plt.scatter(toc0,zoc0-taur, label=\"Paramssol0\")\n",
    "plt.scatter(toc1,zoc1-taur, label=\"Paramssol1\")"
   ]
  },
  {
   "cell_type": "code",
   "execution_count": 41,
   "metadata": {},
   "outputs": [
    {
     "name": "stdout",
     "output_type": "stream",
     "text": [
      "9.02724903 9.303605885853647\n"
     ]
    }
   ],
   "source": [
    "#Paramssol = ainc,e,w,T0,z,P\n",
    "Paramssol0 = (9.02724903e+00, 9.11372213e-01, 3.23027678e+00, 5.31457517e+04, 1.68270052e+01, 2.73368237e+01)\n",
    "a=9.02724903e+00/sin(76*rad)\n",
    "print (a*sin(76*rad),a)\n",
    "\n",
    "mtot = mstar\n",
    "do i = 1,npla\n",
    "mtot = mtot + mass(i)\n",
    "end do\n",
    "do i = 1,npla\n",
    "deno = (k2*(mstar+mass(i)))**0.33333333\n",
    "mass(i) = massf(i)*mtot/deno/sin(inc(i))\n",
    "end do\n",
    "end do\n",
    "do i = 1,npla\n",
    "semi(i) = (k2*(mstar+mass(i))/ene(i)/ene(i))**0.333333333\n",
    "end do"
   ]
  },
  {
   "cell_type": "code",
   "execution_count": 24,
   "metadata": {},
   "outputs": [
    {
     "name": "stdout",
     "output_type": "stream",
     "text": [
      "9.38302958983434 0.9328567895621869 3.170894228155362 53059.99046113527 16.628920550606182 22.999255526917317\n",
      "9.38302958983434 0.9328567895621869 3.170894228155362 53059.99046113527 16.628920550606182 22.999255526917317\n",
      "differential_evolution step 1: f(x)= 206.803\n",
      "differential_evolution step 2: f(x)= 206.803\n",
      "differential_evolution step 3: f(x)= 206.803\n",
      "differential_evolution step 4: f(x)= 196.751\n",
      "differential_evolution step 5: f(x)= 196.654\n",
      "differential_evolution step 6: f(x)= 190.759\n",
      "differential_evolution step 7: f(x)= 190.759\n",
      "differential_evolution step 8: f(x)= 190.759\n",
      "differential_evolution step 9: f(x)= 190.759\n",
      "differential_evolution step 10: f(x)= 190.664\n",
      "differential_evolution step 11: f(x)= 190.267\n",
      "differential_evolution step 12: f(x)= 190.267\n",
      "differential_evolution step 13: f(x)= 187.915\n",
      "differential_evolution step 14: f(x)= 187.435\n",
      "differential_evolution step 15: f(x)= 187.435\n",
      "differential_evolution step 16: f(x)= 187.435\n",
      "differential_evolution step 17: f(x)= 187.115\n",
      "differential_evolution step 18: f(x)= 186.73\n",
      "differential_evolution step 19: f(x)= 186.567\n",
      "differential_evolution step 20: f(x)= 186.567\n",
      "differential_evolution step 21: f(x)= 186.461\n",
      "differential_evolution step 22: f(x)= 186.461\n",
      "differential_evolution step 23: f(x)= 186.403\n",
      "differential_evolution step 24: f(x)= 186.268\n",
      "differential_evolution step 25: f(x)= 186.268\n",
      "differential_evolution step 26: f(x)= 186.268\n",
      "differential_evolution step 27: f(x)= 186.268\n",
      "differential_evolution step 28: f(x)= 186.268\n",
      "differential_evolution step 29: f(x)= 186.268\n",
      "15.5 6.624362968470551 186.26833158121352 988.4991502511095 0 \n",
      "\n",
      "differential_evolution step 1: f(x)= 207.631\n",
      "differential_evolution step 2: f(x)= 200.436\n",
      "differential_evolution step 3: f(x)= 200.436\n",
      "differential_evolution step 4: f(x)= 200.436\n",
      "differential_evolution step 5: f(x)= 194.541\n",
      "differential_evolution step 6: f(x)= 183.077\n",
      "differential_evolution step 7: f(x)= 183.077\n",
      "differential_evolution step 8: f(x)= 183.077\n",
      "differential_evolution step 9: f(x)= 183.077\n",
      "differential_evolution step 10: f(x)= 183.077\n",
      "differential_evolution step 11: f(x)= 183.077\n",
      "differential_evolution step 12: f(x)= 183.077\n",
      "differential_evolution step 13: f(x)= 183.077\n",
      "differential_evolution step 14: f(x)= 181.747\n",
      "differential_evolution step 15: f(x)= 181.747\n",
      "differential_evolution step 16: f(x)= 181.747\n",
      "differential_evolution step 17: f(x)= 181.747\n",
      "differential_evolution step 18: f(x)= 181.747\n",
      "differential_evolution step 19: f(x)= 181.747\n",
      "differential_evolution step 20: f(x)= 181.747\n",
      "differential_evolution step 21: f(x)= 181.747\n",
      "differential_evolution step 22: f(x)= 181.747\n",
      "differential_evolution step 23: f(x)= 181.747\n",
      "differential_evolution step 24: f(x)= 181.747\n",
      "differential_evolution step 25: f(x)= 180.385\n",
      "differential_evolution step 26: f(x)= 180.385\n",
      "differential_evolution step 27: f(x)= 180.385\n",
      "differential_evolution step 28: f(x)= 180.385\n",
      "differential_evolution step 29: f(x)= 177.292\n",
      "differential_evolution step 30: f(x)= 177.263\n",
      "differential_evolution step 31: f(x)= 177.263\n",
      "differential_evolution step 32: f(x)= 174.869\n",
      "differential_evolution step 33: f(x)= 174.869\n",
      "differential_evolution step 34: f(x)= 174.869\n",
      "differential_evolution step 35: f(x)= 174.869\n",
      "differential_evolution step 36: f(x)= 174.869\n",
      "differential_evolution step 37: f(x)= 174.869\n",
      "differential_evolution step 38: f(x)= 174.869\n",
      "differential_evolution step 39: f(x)= 173.541\n",
      "differential_evolution step 40: f(x)= 173.541\n",
      "15.775 6.70248576895351 173.54050407779567 989.155499651659 1 \n",
      "\n",
      "differential_evolution step 1: f(x)= 241.646\n",
      "differential_evolution step 2: f(x)= 191.036\n",
      "differential_evolution step 3: f(x)= 191.036\n",
      "differential_evolution step 4: f(x)= 191.036\n",
      "differential_evolution step 5: f(x)= 191.036\n",
      "differential_evolution step 6: f(x)= 184.839\n",
      "differential_evolution step 7: f(x)= 184.839\n",
      "differential_evolution step 8: f(x)= 184.839\n",
      "differential_evolution step 9: f(x)= 184.691\n",
      "differential_evolution step 10: f(x)= 182.963\n",
      "differential_evolution step 11: f(x)= 182.963\n",
      "differential_evolution step 12: f(x)= 182.216\n",
      "differential_evolution step 13: f(x)= 181.82\n",
      "differential_evolution step 14: f(x)= 181.82\n",
      "differential_evolution step 15: f(x)= 181.773\n",
      "differential_evolution step 16: f(x)= 181.773\n",
      "differential_evolution step 17: f(x)= 181.749\n",
      "differential_evolution step 18: f(x)= 181.65\n",
      "differential_evolution step 19: f(x)= 181.65\n",
      "differential_evolution step 20: f(x)= 181.65\n",
      "differential_evolution step 21: f(x)= 181.407\n",
      "differential_evolution step 22: f(x)= 181.407\n",
      "differential_evolution step 23: f(x)= 181.407\n",
      "differential_evolution step 24: f(x)= 181.407\n",
      "differential_evolution step 25: f(x)= 181.407\n",
      "differential_evolution step 26: f(x)= 181.334\n",
      "differential_evolution step 27: f(x)= 181.334\n",
      "differential_evolution step 28: f(x)= 181.334\n",
      "differential_evolution step 29: f(x)= 181.334\n",
      "differential_evolution step 30: f(x)= 181.334\n",
      "differential_evolution step 31: f(x)= 181.334\n",
      "differential_evolution step 32: f(x)= 181.334\n",
      "differential_evolution step 33: f(x)= 181.334\n",
      "16.05 6.780155896782468 181.33406466894687 989.5799532214063 2 \n",
      "\n",
      "differential_evolution step 1: f(x)= 198.237\n",
      "differential_evolution step 2: f(x)= 188.436\n",
      "differential_evolution step 3: f(x)= 188.436\n",
      "differential_evolution step 4: f(x)= 187.341\n",
      "differential_evolution step 5: f(x)= 187.341\n",
      "differential_evolution step 6: f(x)= 187.341\n",
      "differential_evolution step 7: f(x)= 187.341\n",
      "differential_evolution step 8: f(x)= 181.895\n",
      "differential_evolution step 9: f(x)= 180.565\n",
      "differential_evolution step 10: f(x)= 178.793\n",
      "differential_evolution step 11: f(x)= 178.793\n",
      "differential_evolution step 12: f(x)= 178.793\n",
      "differential_evolution step 13: f(x)= 178.793\n",
      "differential_evolution step 14: f(x)= 178.793\n",
      "differential_evolution step 15: f(x)= 178.677\n",
      "differential_evolution step 16: f(x)= 178.644\n",
      "differential_evolution step 17: f(x)= 178.644\n",
      "differential_evolution step 18: f(x)= 178.644\n",
      "differential_evolution step 19: f(x)= 178.644\n",
      "differential_evolution step 20: f(x)= 178.644\n",
      "differential_evolution step 21: f(x)= 178.58\n",
      "differential_evolution step 22: f(x)= 178.515\n",
      "differential_evolution step 23: f(x)= 178.515\n",
      "differential_evolution step 24: f(x)= 178.481\n",
      "differential_evolution step 25: f(x)= 178.481\n",
      "16.325 6.857383664928267 178.4810772231471 989.7920987001696 3 \n",
      "\n",
      "differential_evolution step 1: f(x)= 181.343\n",
      "differential_evolution step 2: f(x)= 181.343\n",
      "differential_evolution step 3: f(x)= 181.343\n",
      "differential_evolution step 4: f(x)= 181.343\n",
      "differential_evolution step 5: f(x)= 181.343\n",
      "differential_evolution step 6: f(x)= 181.343\n",
      "differential_evolution step 7: f(x)= 181.343\n",
      "differential_evolution step 8: f(x)= 176.651\n",
      "differential_evolution step 9: f(x)= 176.651\n",
      "differential_evolution step 10: f(x)= 176.651\n",
      "differential_evolution step 11: f(x)= 176.651\n",
      "differential_evolution step 12: f(x)= 176.651\n",
      "differential_evolution step 13: f(x)= 175.684\n",
      "differential_evolution step 14: f(x)= 175.684\n",
      "differential_evolution step 15: f(x)= 175.684\n",
      "differential_evolution step 16: f(x)= 175.334\n",
      "differential_evolution step 17: f(x)= 175.334\n",
      "differential_evolution step 18: f(x)= 175.334\n",
      "differential_evolution step 19: f(x)= 175.334\n",
      "differential_evolution step 20: f(x)= 175.334\n",
      "differential_evolution step 21: f(x)= 175.334\n",
      "differential_evolution step 22: f(x)= 175.334\n",
      "differential_evolution step 23: f(x)= 175.334\n",
      "differential_evolution step 24: f(x)= 175.334\n",
      "differential_evolution step 25: f(x)= 175.282\n",
      "differential_evolution step 26: f(x)= 175.282\n",
      "differential_evolution step 27: f(x)= 175.282\n",
      "differential_evolution step 28: f(x)= 175.282\n",
      "16.6 6.934178982083496 175.24379665958585 989.776430573458 4 \n",
      "\n",
      "differential_evolution step 1: f(x)= 211.494\n",
      "differential_evolution step 2: f(x)= 211.494\n",
      "differential_evolution step 3: f(x)= 193.312\n",
      "differential_evolution step 4: f(x)= 193.312\n",
      "differential_evolution step 5: f(x)= 192.847\n",
      "differential_evolution step 6: f(x)= 176.89\n",
      "differential_evolution step 7: f(x)= 176.89\n",
      "differential_evolution step 8: f(x)= 176.89\n",
      "differential_evolution step 9: f(x)= 173.498\n",
      "differential_evolution step 10: f(x)= 173.498\n",
      "differential_evolution step 11: f(x)= 173.498\n",
      "differential_evolution step 12: f(x)= 172.144\n",
      "differential_evolution step 13: f(x)= 172.144\n",
      "differential_evolution step 14: f(x)= 172.144\n",
      "differential_evolution step 15: f(x)= 172.144\n",
      "differential_evolution step 16: f(x)= 172.144\n",
      "differential_evolution step 17: f(x)= 172.144\n",
      "differential_evolution step 18: f(x)= 172.144\n",
      "differential_evolution step 19: f(x)= 172.144\n",
      "differential_evolution step 20: f(x)= 172.144\n",
      "differential_evolution step 21: f(x)= 172.144\n",
      "differential_evolution step 22: f(x)= 172.144\n",
      "differential_evolution step 23: f(x)= 172.144\n",
      "differential_evolution step 24: f(x)= 172.144\n",
      "differential_evolution step 25: f(x)= 172.133\n",
      "differential_evolution step 26: f(x)= 172.077\n",
      "differential_evolution step 27: f(x)= 172.077\n",
      "differential_evolution step 28: f(x)= 172\n",
      "differential_evolution step 29: f(x)= 172\n",
      "differential_evolution step 30: f(x)= 172\n",
      "differential_evolution step 31: f(x)= 172\n",
      "16.875 7.010551374929393 171.99978497939605 989.5907790643721 5 \n",
      "\n",
      "differential_evolution step 1: f(x)= 205.839\n",
      "differential_evolution step 2: f(x)= 205.839\n",
      "differential_evolution step 3: f(x)= 205.839\n",
      "differential_evolution step 4: f(x)= 205.839\n",
      "differential_evolution step 5: f(x)= 205.839\n",
      "differential_evolution step 6: f(x)= 205.839\n",
      "differential_evolution step 7: f(x)= 205.839\n",
      "differential_evolution step 8: f(x)= 205.839\n",
      "differential_evolution step 9: f(x)= 190.246\n",
      "differential_evolution step 10: f(x)= 190.246\n",
      "differential_evolution step 11: f(x)= 190.246\n",
      "differential_evolution step 12: f(x)= 186.145\n",
      "differential_evolution step 13: f(x)= 176.61\n",
      "differential_evolution step 14: f(x)= 176.61\n",
      "differential_evolution step 15: f(x)= 174.518\n",
      "differential_evolution step 16: f(x)= 174.518\n",
      "differential_evolution step 17: f(x)= 174.518\n",
      "differential_evolution step 18: f(x)= 174.518\n",
      "differential_evolution step 19: f(x)= 170.872\n",
      "differential_evolution step 20: f(x)= 170.872\n",
      "differential_evolution step 21: f(x)= 170.872\n",
      "differential_evolution step 22: f(x)= 170.092\n",
      "differential_evolution step 23: f(x)= 169.376\n",
      "differential_evolution step 24: f(x)= 168.907\n",
      "differential_evolution step 25: f(x)= 168.907\n",
      "differential_evolution step 26: f(x)= 168.907\n",
      "differential_evolution step 27: f(x)= 168.661\n",
      "differential_evolution step 28: f(x)= 168.661\n",
      "differential_evolution step 29: f(x)= 168.661\n",
      "differential_evolution step 30: f(x)= 168.661\n",
      "differential_evolution step 31: f(x)= 168.628\n",
      "differential_evolution step 32: f(x)= 168.628\n",
      "differential_evolution step 33: f(x)= 168.628\n",
      "differential_evolution step 34: f(x)= 168.628\n",
      "differential_evolution step 35: f(x)= 168.628\n",
      "differential_evolution step 36: f(x)= 168.565\n",
      "differential_evolution step 37: f(x)= 168.565\n",
      "differential_evolution step 38: f(x)= 168.565\n",
      "differential_evolution step 39: f(x)= 168.565\n",
      "differential_evolution step 40: f(x)= 168.565\n",
      "17.15 7.086510008834257 168.56547730122404 989.214472649833 6 \n",
      "\n",
      "differential_evolution step 1: f(x)= 216.147\n",
      "differential_evolution step 2: f(x)= 205.228\n",
      "differential_evolution step 3: f(x)= 181.231\n",
      "differential_evolution step 4: f(x)= 181.231\n",
      "differential_evolution step 5: f(x)= 170.011\n",
      "differential_evolution step 6: f(x)= 168.579\n",
      "differential_evolution step 7: f(x)= 168.579\n",
      "differential_evolution step 8: f(x)= 167.937\n",
      "differential_evolution step 9: f(x)= 167.937\n",
      "differential_evolution step 10: f(x)= 167.937\n",
      "differential_evolution step 11: f(x)= 167.685\n",
      "differential_evolution step 12: f(x)= 167.1\n",
      "differential_evolution step 13: f(x)= 167.1\n",
      "differential_evolution step 14: f(x)= 167.1\n",
      "differential_evolution step 15: f(x)= 167.1\n",
      "differential_evolution step 16: f(x)= 166.878\n",
      "differential_evolution step 17: f(x)= 165.777\n",
      "differential_evolution step 18: f(x)= 165.777\n",
      "differential_evolution step 19: f(x)= 165.777\n",
      "differential_evolution step 20: f(x)= 165.777\n",
      "differential_evolution step 21: f(x)= 165.777\n",
      "differential_evolution step 22: f(x)= 165.258\n",
      "differential_evolution step 23: f(x)= 165.258\n",
      "differential_evolution step 24: f(x)= 165.258\n",
      "differential_evolution step 25: f(x)= 165.102\n",
      "differential_evolution step 26: f(x)= 165.102\n",
      "differential_evolution step 27: f(x)= 165.102\n",
      "differential_evolution step 28: f(x)= 165.102\n",
      "differential_evolution step 29: f(x)= 165.102\n",
      "differential_evolution step 30: f(x)= 165.102\n",
      "differential_evolution step 31: f(x)= 165.102\n",
      "differential_evolution step 32: f(x)= 165.102\n",
      "differential_evolution step 33: f(x)= 165.102\n",
      "differential_evolution step 34: f(x)= 165.102\n",
      "differential_evolution step 35: f(x)= 165.102\n",
      "differential_evolution step 36: f(x)= 165.102\n",
      "differential_evolution step 37: f(x)= 165.102\n",
      "17.425 7.162063707117181 165.1022406879321 988.6901151022082 7 \n",
      "\n",
      "differential_evolution step 1: f(x)= 210.083\n",
      "differential_evolution step 2: f(x)= 167.811\n",
      "differential_evolution step 3: f(x)= 167.811\n",
      "differential_evolution step 4: f(x)= 166.243\n",
      "differential_evolution step 5: f(x)= 166.243\n",
      "differential_evolution step 6: f(x)= 166.243\n",
      "differential_evolution step 7: f(x)= 166.243\n",
      "differential_evolution step 8: f(x)= 166.243\n",
      "differential_evolution step 9: f(x)= 166.243\n",
      "differential_evolution step 10: f(x)= 166.243\n",
      "differential_evolution step 11: f(x)= 164.515\n",
      "differential_evolution step 12: f(x)= 162.51\n",
      "differential_evolution step 13: f(x)= 162.51\n",
      "differential_evolution step 14: f(x)= 162.51\n",
      "differential_evolution step 15: f(x)= 162.51\n",
      "differential_evolution step 16: f(x)= 162.51\n",
      "differential_evolution step 17: f(x)= 162.51\n",
      "differential_evolution step 18: f(x)= 162.51\n",
      "differential_evolution step 19: f(x)= 162.51\n",
      "differential_evolution step 20: f(x)= 162.51\n",
      "differential_evolution step 21: f(x)= 162.51\n",
      "differential_evolution step 22: f(x)= 162.308\n",
      "differential_evolution step 23: f(x)= 162.308\n",
      "differential_evolution step 24: f(x)= 162.308\n",
      "differential_evolution step 25: f(x)= 162.308\n",
      "differential_evolution step 26: f(x)= 162.135\n",
      "differential_evolution step 27: f(x)= 162.075\n",
      "differential_evolution step 28: f(x)= 162.075\n",
      "differential_evolution step 29: f(x)= 162.075\n",
      "differential_evolution step 30: f(x)= 162.075\n",
      "differential_evolution step 31: f(x)= 162.075\n",
      "differential_evolution step 32: f(x)= 162.075\n",
      "differential_evolution step 33: f(x)= 162.075\n",
      "differential_evolution step 34: f(x)= 161.957\n",
      "differential_evolution step 35: f(x)= 161.898\n",
      "differential_evolution step 36: f(x)= 161.898\n",
      "differential_evolution step 37: f(x)= 161.898\n",
      "differential_evolution step 38: f(x)= 161.827\n",
      "17.7 7.2372209689975655 161.7671881234737 987.9855337079475 8 \n",
      "\n",
      "differential_evolution step 1: f(x)= 210.86\n",
      "differential_evolution step 2: f(x)= 191.206\n",
      "differential_evolution step 3: f(x)= 162.95\n",
      "differential_evolution step 4: f(x)= 162.95\n",
      "differential_evolution step 5: f(x)= 162.95\n",
      "differential_evolution step 6: f(x)= 162.914\n",
      "differential_evolution step 7: f(x)= 162.914\n",
      "differential_evolution step 8: f(x)= 161.445\n",
      "differential_evolution step 9: f(x)= 161.445\n",
      "differential_evolution step 10: f(x)= 161.445\n",
      "differential_evolution step 11: f(x)= 161.445\n",
      "differential_evolution step 12: f(x)= 160.503\n",
      "differential_evolution step 13: f(x)= 158.843\n",
      "differential_evolution step 14: f(x)= 158.843\n",
      "differential_evolution step 15: f(x)= 158.843\n",
      "differential_evolution step 16: f(x)= 158.547\n",
      "differential_evolution step 17: f(x)= 158.547\n",
      "differential_evolution step 18: f(x)= 158.547\n",
      "differential_evolution step 19: f(x)= 158.547\n",
      "differential_evolution step 20: f(x)= 158.547\n",
      "differential_evolution step 21: f(x)= 158.539\n",
      "differential_evolution step 22: f(x)= 158.539\n",
      "differential_evolution step 23: f(x)= 158.539\n",
      "differential_evolution step 24: f(x)= 158.539\n",
      "differential_evolution step 25: f(x)= 158.539\n",
      "differential_evolution step 26: f(x)= 158.53\n",
      "differential_evolution step 27: f(x)= 158.53\n",
      "differential_evolution step 28: f(x)= 158.53\n",
      "differential_evolution step 29: f(x)= 158.496\n",
      "differential_evolution step 30: f(x)= 158.496\n",
      "differential_evolution step 31: f(x)= 158.496\n",
      "differential_evolution step 32: f(x)= 158.496\n",
      "differential_evolution step 33: f(x)= 158.448\n",
      "differential_evolution step 34: f(x)= 158.44\n",
      "17.975 7.311989986339087 158.36679771242322 987.1607669036197 9 \n",
      "\n",
      "differential_evolution step 1: f(x)= 197.028\n",
      "differential_evolution step 2: f(x)= 178.323\n",
      "differential_evolution step 3: f(x)= 178.323\n",
      "differential_evolution step 4: f(x)= 178.323\n",
      "differential_evolution step 5: f(x)= 165.519\n",
      "differential_evolution step 6: f(x)= 158.661\n",
      "differential_evolution step 7: f(x)= 158.661\n",
      "differential_evolution step 8: f(x)= 158.661\n",
      "differential_evolution step 9: f(x)= 158.661\n",
      "differential_evolution step 10: f(x)= 156.38\n",
      "differential_evolution step 11: f(x)= 156.38\n",
      "differential_evolution step 12: f(x)= 156.38\n",
      "differential_evolution step 13: f(x)= 156.38\n",
      "differential_evolution step 14: f(x)= 156.38\n",
      "differential_evolution step 15: f(x)= 155.824\n",
      "differential_evolution step 16: f(x)= 155.824\n",
      "differential_evolution step 17: f(x)= 155.824\n",
      "differential_evolution step 18: f(x)= 155.824\n",
      "differential_evolution step 19: f(x)= 155.824\n",
      "differential_evolution step 20: f(x)= 155.824\n",
      "differential_evolution step 21: f(x)= 155.824\n",
      "differential_evolution step 22: f(x)= 155.824\n",
      "differential_evolution step 23: f(x)= 155.761\n",
      "differential_evolution step 24: f(x)= 155.761\n",
      "differential_evolution step 25: f(x)= 155.761\n",
      "differential_evolution step 26: f(x)= 155.636\n",
      "differential_evolution step 27: f(x)= 155.382\n",
      "differential_evolution step 28: f(x)= 155.382\n",
      "differential_evolution step 29: f(x)= 155.382\n",
      "differential_evolution step 30: f(x)= 155.382\n",
      "differential_evolution step 31: f(x)= 155.358\n",
      "differential_evolution step 32: f(x)= 155.358\n",
      "18.25 7.386378659286226 155.35771907788265 986.1868102027897 10 \n",
      "\n",
      "differential_evolution step 1: f(x)= 216.504\n",
      "differential_evolution step 2: f(x)= 170.846\n",
      "differential_evolution step 3: f(x)= 170.846\n",
      "differential_evolution step 4: f(x)= 170.846\n",
      "differential_evolution step 5: f(x)= 170.846\n",
      "differential_evolution step 6: f(x)= 170.846\n",
      "differential_evolution step 7: f(x)= 158.734\n",
      "differential_evolution step 8: f(x)= 158.734\n",
      "differential_evolution step 9: f(x)= 157.111\n",
      "differential_evolution step 10: f(x)= 157.111\n",
      "differential_evolution step 11: f(x)= 155.994\n",
      "differential_evolution step 12: f(x)= 154.254\n",
      "differential_evolution step 13: f(x)= 154.254\n",
      "differential_evolution step 14: f(x)= 154.095\n",
      "differential_evolution step 15: f(x)= 153.374\n",
      "differential_evolution step 16: f(x)= 153.374\n",
      "differential_evolution step 17: f(x)= 153.114\n",
      "differential_evolution step 18: f(x)= 152.719\n",
      "differential_evolution step 19: f(x)= 152.621\n",
      "differential_evolution step 20: f(x)= 152.316\n",
      "differential_evolution step 21: f(x)= 152.316\n",
      "differential_evolution step 22: f(x)= 152.316\n",
      "differential_evolution step 23: f(x)= 152.316\n",
      "differential_evolution step 24: f(x)= 152.316\n",
      "differential_evolution step 25: f(x)= 152.103\n",
      "differential_evolution step 26: f(x)= 152.103\n",
      "differential_evolution step 27: f(x)= 152.103\n",
      "differential_evolution step 28: f(x)= 152.103\n",
      "differential_evolution step 29: f(x)= 152.103\n",
      "differential_evolution step 30: f(x)= 152.103\n",
      "differential_evolution step 31: f(x)= 152.004\n",
      "differential_evolution step 32: f(x)= 152.004\n",
      "differential_evolution step 33: f(x)= 152.004\n",
      "differential_evolution step 34: f(x)= 152.004\n",
      "18.525 7.460394610882159 152.00369788658963 985.1017722769822 11 \n",
      "\n",
      "differential_evolution step 1: f(x)= 182.6\n",
      "differential_evolution step 2: f(x)= 163.536\n",
      "differential_evolution step 3: f(x)= 156.432\n",
      "differential_evolution step 4: f(x)= 156.432\n",
      "differential_evolution step 5: f(x)= 156.432\n",
      "differential_evolution step 6: f(x)= 153.629\n",
      "differential_evolution step 7: f(x)= 153.629\n",
      "differential_evolution step 8: f(x)= 153.629\n",
      "differential_evolution step 9: f(x)= 153.518\n",
      "differential_evolution step 10: f(x)= 151.705\n",
      "differential_evolution step 11: f(x)= 151.208\n",
      "differential_evolution step 12: f(x)= 151.208\n",
      "differential_evolution step 13: f(x)= 151.208\n",
      "differential_evolution step 14: f(x)= 149.495\n",
      "differential_evolution step 15: f(x)= 149.495\n",
      "differential_evolution step 16: f(x)= 149.495\n",
      "differential_evolution step 17: f(x)= 149.134\n",
      "differential_evolution step 18: f(x)= 149.134\n",
      "differential_evolution step 19: f(x)= 149.134\n",
      "differential_evolution step 20: f(x)= 149.134\n",
      "differential_evolution step 21: f(x)= 149.134\n",
      "differential_evolution step 22: f(x)= 149.134\n",
      "differential_evolution step 23: f(x)= 149.134\n",
      "differential_evolution step 24: f(x)= 149.02\n",
      "differential_evolution step 25: f(x)= 149.02\n",
      "differential_evolution step 26: f(x)= 149.02\n",
      "differential_evolution step 27: f(x)= 148.972\n",
      "differential_evolution step 28: f(x)= 148.972\n",
      "differential_evolution step 29: f(x)= 148.935\n",
      "differential_evolution step 30: f(x)= 148.918\n",
      "differential_evolution step 31: f(x)= 148.918\n",
      "differential_evolution step 32: f(x)= 148.886\n",
      "differential_evolution step 33: f(x)= 148.886\n",
      "18.8 7.534045200748487 148.85753127874443 983.881467116342 12 \n",
      "\n",
      "differential_evolution step 1: f(x)= 155.313\n",
      "differential_evolution step 2: f(x)= 155.313\n",
      "differential_evolution step 3: f(x)= 155.313\n",
      "differential_evolution step 4: f(x)= 155.313\n",
      "differential_evolution step 5: f(x)= 152.457\n",
      "differential_evolution step 6: f(x)= 152.457\n",
      "differential_evolution step 7: f(x)= 152.457\n",
      "differential_evolution step 8: f(x)= 152.457\n",
      "differential_evolution step 9: f(x)= 152.457\n",
      "differential_evolution step 10: f(x)= 152.457\n",
      "differential_evolution step 11: f(x)= 146.739\n",
      "differential_evolution step 12: f(x)= 146.739\n",
      "differential_evolution step 13: f(x)= 146.739\n",
      "differential_evolution step 14: f(x)= 146.691\n",
      "differential_evolution step 15: f(x)= 146.691\n",
      "differential_evolution step 16: f(x)= 146.691\n",
      "differential_evolution step 17: f(x)= 146.691\n",
      "differential_evolution step 18: f(x)= 146.691\n",
      "differential_evolution step 19: f(x)= 146.691\n",
      "differential_evolution step 20: f(x)= 146.273\n",
      "differential_evolution step 21: f(x)= 146.273\n",
      "differential_evolution step 22: f(x)= 146.162\n",
      "differential_evolution step 23: f(x)= 146.162\n",
      "differential_evolution step 24: f(x)= 146.162\n",
      "differential_evolution step 25: f(x)= 146.162\n",
      "differential_evolution step 26: f(x)= 146.162\n",
      "differential_evolution step 27: f(x)= 146.059\n",
      "differential_evolution step 28: f(x)= 146.059\n",
      "differential_evolution step 29: f(x)= 146.059\n",
      "differential_evolution step 30: f(x)= 146.059\n",
      "differential_evolution step 31: f(x)= 146.053\n",
      "differential_evolution step 32: f(x)= 146.053\n",
      "differential_evolution step 33: f(x)= 146.053\n",
      "differential_evolution step 34: f(x)= 145.875\n",
      "differential_evolution step 35: f(x)= 145.875\n",
      "19.075 7.607337537899818 145.87549282441177 982.5556701355283 13 \n",
      "\n",
      "differential_evolution step 1: f(x)= 166.021\n",
      "differential_evolution step 2: f(x)= 146.756\n",
      "differential_evolution step 3: f(x)= 146.756\n",
      "differential_evolution step 4: f(x)= 146.756\n",
      "differential_evolution step 5: f(x)= 146.756\n",
      "differential_evolution step 6: f(x)= 146.756\n",
      "differential_evolution step 7: f(x)= 146.756\n",
      "differential_evolution step 8: f(x)= 146.756\n",
      "differential_evolution step 9: f(x)= 145.971\n",
      "differential_evolution step 10: f(x)= 145.971\n",
      "differential_evolution step 11: f(x)= 145.971\n",
      "differential_evolution step 12: f(x)= 145.971\n",
      "differential_evolution step 13: f(x)= 145.971\n",
      "differential_evolution step 14: f(x)= 145.971\n",
      "differential_evolution step 15: f(x)= 145.971\n",
      "differential_evolution step 16: f(x)= 144.478\n",
      "differential_evolution step 17: f(x)= 144.478\n",
      "differential_evolution step 18: f(x)= 142.927\n",
      "differential_evolution step 19: f(x)= 142.927\n",
      "differential_evolution step 20: f(x)= 142.927\n",
      "differential_evolution step 21: f(x)= 142.927\n",
      "differential_evolution step 22: f(x)= 142.927\n",
      "differential_evolution step 23: f(x)= 142.927\n",
      "differential_evolution step 24: f(x)= 142.927\n",
      "differential_evolution step 25: f(x)= 142.927\n",
      "differential_evolution step 26: f(x)= 142.927\n",
      "differential_evolution step 27: f(x)= 142.927\n",
      "differential_evolution step 28: f(x)= 142.927\n",
      "differential_evolution step 29: f(x)= 142.927\n",
      "differential_evolution step 30: f(x)= 142.87\n",
      "differential_evolution step 31: f(x)= 142.87\n",
      "differential_evolution step 32: f(x)= 142.87\n",
      "differential_evolution step 33: f(x)= 142.87\n",
      "differential_evolution step 34: f(x)= 142.87\n",
      "differential_evolution step 35: f(x)= 142.805\n",
      "differential_evolution step 36: f(x)= 142.805\n",
      "differential_evolution step 37: f(x)= 142.805\n",
      "differential_evolution step 38: f(x)= 142.805\n",
      "differential_evolution step 39: f(x)= 142.805\n",
      "differential_evolution step 40: f(x)= 142.805\n",
      "19.35 7.680278492759584 142.80486040826995 981.1540107007256 14 \n",
      "\n",
      "differential_evolution step 1: f(x)= 183.094\n",
      "differential_evolution step 2: f(x)= 183.094\n",
      "differential_evolution step 3: f(x)= 180.638\n",
      "differential_evolution step 4: f(x)= 164.028\n",
      "differential_evolution step 5: f(x)= 148.04\n",
      "differential_evolution step 6: f(x)= 144.697\n",
      "differential_evolution step 7: f(x)= 144.697\n",
      "differential_evolution step 8: f(x)= 144.697\n",
      "differential_evolution step 9: f(x)= 142.892\n",
      "differential_evolution step 10: f(x)= 142.892\n",
      "differential_evolution step 11: f(x)= 142.892\n",
      "differential_evolution step 12: f(x)= 142.892\n",
      "differential_evolution step 13: f(x)= 142.805\n",
      "differential_evolution step 14: f(x)= 142.805\n",
      "differential_evolution step 15: f(x)= 140.804\n",
      "differential_evolution step 16: f(x)= 140.804\n",
      "differential_evolution step 17: f(x)= 140.804\n",
      "differential_evolution step 18: f(x)= 140.804\n",
      "differential_evolution step 19: f(x)= 140.804\n",
      "differential_evolution step 20: f(x)= 140.804\n",
      "differential_evolution step 21: f(x)= 140.526\n",
      "differential_evolution step 22: f(x)= 140.526\n",
      "differential_evolution step 23: f(x)= 140.526\n",
      "differential_evolution step 24: f(x)= 140.002\n",
      "differential_evolution step 25: f(x)= 140.002\n",
      "differential_evolution step 26: f(x)= 140.002\n",
      "differential_evolution step 27: f(x)= 140.002\n",
      "differential_evolution step 28: f(x)= 140.002\n",
      "differential_evolution step 29: f(x)= 139.991\n",
      "differential_evolution step 30: f(x)= 139.991\n",
      "differential_evolution step 31: f(x)= 139.991\n",
      "differential_evolution step 32: f(x)= 139.991\n",
      "differential_evolution step 33: f(x)= 139.938\n",
      "differential_evolution step 34: f(x)= 139.938\n",
      "differential_evolution step 35: f(x)= 139.938\n",
      "differential_evolution step 36: f(x)= 139.938\n",
      "differential_evolution step 37: f(x)= 139.938\n",
      "differential_evolution step 38: f(x)= 139.938\n",
      "differential_evolution step 39: f(x)= 139.938\n",
      "differential_evolution step 40: f(x)= 139.927\n",
      "19.625 7.752874708437494 139.91807012939265 979.6167670008223 15 \n",
      "\n",
      "differential_evolution step 1: f(x)= 187.022\n",
      "differential_evolution step 2: f(x)= 187.022\n",
      "differential_evolution step 3: f(x)= 187.022\n",
      "differential_evolution step 4: f(x)= 138.945\n",
      "differential_evolution step 5: f(x)= 138.945\n",
      "differential_evolution step 6: f(x)= 138.945\n",
      "differential_evolution step 7: f(x)= 138.945\n",
      "differential_evolution step 8: f(x)= 138.945\n",
      "differential_evolution step 9: f(x)= 138.945\n",
      "differential_evolution step 10: f(x)= 138.945\n",
      "differential_evolution step 11: f(x)= 138.945\n",
      "differential_evolution step 12: f(x)= 138.292\n",
      "differential_evolution step 13: f(x)= 138.292\n",
      "differential_evolution step 14: f(x)= 138.292\n",
      "differential_evolution step 15: f(x)= 138.292\n",
      "differential_evolution step 16: f(x)= 138.292\n",
      "differential_evolution step 17: f(x)= 137.343\n",
      "differential_evolution step 18: f(x)= 137.24\n",
      "differential_evolution step 19: f(x)= 137.24\n",
      "differential_evolution step 20: f(x)= 137.24\n",
      "differential_evolution step 21: f(x)= 137.24\n",
      "differential_evolution step 22: f(x)= 137.24\n",
      "differential_evolution step 23: f(x)= 137.24\n",
      "differential_evolution step 24: f(x)= 137.24\n",
      "differential_evolution step 25: f(x)= 137.111\n",
      "differential_evolution step 26: f(x)= 137.111\n",
      "differential_evolution step 27: f(x)= 137.111\n",
      "differential_evolution step 28: f(x)= 137.111\n",
      "differential_evolution step 29: f(x)= 137.089\n",
      "differential_evolution step 30: f(x)= 137.089\n",
      "differential_evolution step 31: f(x)= 137.089\n",
      "differential_evolution step 32: f(x)= 137.089\n",
      "differential_evolution step 33: f(x)= 137.089\n",
      "differential_evolution step 34: f(x)= 137.073\n",
      "19.9 7.825132611323704 137.02581892488135 978.0053779922413 16 \n",
      "\n",
      "differential_evolution step 1: f(x)= 165.577\n",
      "differential_evolution step 2: f(x)= 165.577\n",
      "differential_evolution step 3: f(x)= 144.123\n",
      "differential_evolution step 4: f(x)= 144.123\n",
      "differential_evolution step 5: f(x)= 144.123\n",
      "differential_evolution step 6: f(x)= 144.123\n",
      "differential_evolution step 7: f(x)= 140.152\n",
      "differential_evolution step 8: f(x)= 139.224\n",
      "differential_evolution step 9: f(x)= 139.224\n",
      "differential_evolution step 10: f(x)= 137.399\n",
      "differential_evolution step 11: f(x)= 137.399\n",
      "differential_evolution step 12: f(x)= 137.399\n",
      "differential_evolution step 13: f(x)= 137.399\n",
      "differential_evolution step 14: f(x)= 137.399\n",
      "differential_evolution step 15: f(x)= 135.411\n",
      "differential_evolution step 16: f(x)= 135.411\n",
      "differential_evolution step 17: f(x)= 135.411\n",
      "differential_evolution step 18: f(x)= 134.974\n",
      "differential_evolution step 19: f(x)= 134.974\n",
      "differential_evolution step 20: f(x)= 134.974\n",
      "differential_evolution step 21: f(x)= 134.563\n",
      "differential_evolution step 22: f(x)= 134.563\n",
      "differential_evolution step 23: f(x)= 134.398\n",
      "differential_evolution step 24: f(x)= 134.034\n",
      "differential_evolution step 25: f(x)= 134.034\n",
      "differential_evolution step 26: f(x)= 134.034\n",
      "differential_evolution step 27: f(x)= 134.034\n",
      "differential_evolution step 28: f(x)= 134.034\n",
      "differential_evolution step 29: f(x)= 134.034\n",
      "differential_evolution step 30: f(x)= 134.034\n",
      "differential_evolution step 31: f(x)= 134.034\n",
      "differential_evolution step 32: f(x)= 134.034\n",
      "differential_evolution step 33: f(x)= 134.034\n",
      "differential_evolution step 34: f(x)= 134.034\n",
      "differential_evolution step 35: f(x)= 134.034\n",
      "differential_evolution step 36: f(x)= 134.034\n",
      "20.175 7.897058421049934 134.0344845790418 976.3096129187553 17 \n",
      "\n",
      "differential_evolution step 1: f(x)= 155.387\n",
      "differential_evolution step 2: f(x)= 155.387\n",
      "differential_evolution step 3: f(x)= 147.602\n",
      "differential_evolution step 4: f(x)= 141.863\n",
      "differential_evolution step 5: f(x)= 141.863\n",
      "differential_evolution step 6: f(x)= 141.863\n",
      "differential_evolution step 7: f(x)= 135.917\n",
      "differential_evolution step 8: f(x)= 135.917\n",
      "differential_evolution step 9: f(x)= 135.917\n",
      "differential_evolution step 10: f(x)= 135.917\n",
      "differential_evolution step 11: f(x)= 135.917\n",
      "differential_evolution step 12: f(x)= 135.917\n",
      "differential_evolution step 13: f(x)= 135.917\n",
      "differential_evolution step 14: f(x)= 133.921\n",
      "differential_evolution step 15: f(x)= 132.561\n",
      "differential_evolution step 16: f(x)= 132.167\n",
      "differential_evolution step 17: f(x)= 132.167\n",
      "differential_evolution step 18: f(x)= 132.167\n",
      "differential_evolution step 19: f(x)= 132.167\n",
      "differential_evolution step 20: f(x)= 131.857\n",
      "differential_evolution step 21: f(x)= 131.857\n",
      "differential_evolution step 22: f(x)= 131.857\n",
      "differential_evolution step 23: f(x)= 131.857\n",
      "differential_evolution step 24: f(x)= 131.857\n",
      "differential_evolution step 25: f(x)= 131.429\n",
      "differential_evolution step 26: f(x)= 131.292\n",
      "differential_evolution step 27: f(x)= 131.292\n",
      "differential_evolution step 28: f(x)= 131.292\n",
      "differential_evolution step 29: f(x)= 131.292\n",
      "differential_evolution step 30: f(x)= 131.292\n",
      "differential_evolution step 31: f(x)= 131.292\n",
      "differential_evolution step 32: f(x)= 131.275\n",
      "differential_evolution step 33: f(x)= 131.275\n",
      "differential_evolution step 34: f(x)= 131.275\n",
      "differential_evolution step 35: f(x)= 131.275\n",
      "differential_evolution step 36: f(x)= 131.252\n",
      "differential_evolution step 37: f(x)= 131.252\n",
      "20.45 7.968658159863471 131.25194409372398 974.5527160723155 18 \n",
      "\n",
      "differential_evolution step 1: f(x)= 151.556\n",
      "differential_evolution step 2: f(x)= 144.56\n",
      "differential_evolution step 3: f(x)= 133.757\n",
      "differential_evolution step 4: f(x)= 133.757\n",
      "differential_evolution step 5: f(x)= 131.622\n",
      "differential_evolution step 6: f(x)= 131.622\n",
      "differential_evolution step 7: f(x)= 131.622\n",
      "differential_evolution step 8: f(x)= 131.622\n",
      "differential_evolution step 9: f(x)= 130.321\n",
      "differential_evolution step 10: f(x)= 130.321\n",
      "differential_evolution step 11: f(x)= 129.763\n",
      "differential_evolution step 12: f(x)= 129.763\n",
      "differential_evolution step 13: f(x)= 129.763\n",
      "differential_evolution step 14: f(x)= 129.091\n",
      "differential_evolution step 15: f(x)= 129.091\n",
      "differential_evolution step 16: f(x)= 128.778\n",
      "differential_evolution step 17: f(x)= 128.778\n",
      "differential_evolution step 18: f(x)= 128.778\n",
      "differential_evolution step 19: f(x)= 128.778\n",
      "differential_evolution step 20: f(x)= 128.778\n",
      "differential_evolution step 21: f(x)= 128.778\n",
      "differential_evolution step 22: f(x)= 128.778\n",
      "differential_evolution step 23: f(x)= 128.778\n",
      "differential_evolution step 24: f(x)= 128.778\n",
      "differential_evolution step 25: f(x)= 128.693\n",
      "differential_evolution step 26: f(x)= 128.613\n",
      "differential_evolution step 27: f(x)= 128.505\n",
      "differential_evolution step 28: f(x)= 128.505\n",
      "differential_evolution step 29: f(x)= 128.456\n",
      "differential_evolution step 30: f(x)= 128.456\n",
      "differential_evolution step 31: f(x)= 128.456\n",
      "differential_evolution step 32: f(x)= 128.456\n",
      "differential_evolution step 33: f(x)= 128.456\n",
      "differential_evolution step 34: f(x)= 128.456\n",
      "differential_evolution step 35: f(x)= 128.456\n",
      "differential_evolution step 36: f(x)= 128.456\n",
      "differential_evolution step 37: f(x)= 128.456\n",
      "differential_evolution step 38: f(x)= 128.456\n",
      "differential_evolution step 39: f(x)= 128.456\n",
      "20.725 8.039937661456078 128.40859931831264 972.6952757340624 19 \n",
      "\n",
      "differential_evolution step 1: f(x)= 192.643\n",
      "differential_evolution step 2: f(x)= 159.268\n",
      "differential_evolution step 3: f(x)= 148.496\n",
      "differential_evolution step 4: f(x)= 142.655\n",
      "differential_evolution step 5: f(x)= 134.211\n",
      "differential_evolution step 6: f(x)= 132.891\n",
      "differential_evolution step 7: f(x)= 128.575\n",
      "differential_evolution step 8: f(x)= 128.575\n",
      "differential_evolution step 9: f(x)= 128.575\n",
      "differential_evolution step 10: f(x)= 128.575\n",
      "differential_evolution step 11: f(x)= 128.575\n",
      "differential_evolution step 12: f(x)= 127.054\n",
      "differential_evolution step 13: f(x)= 127.054\n",
      "differential_evolution step 14: f(x)= 127.054\n",
      "differential_evolution step 15: f(x)= 127.054\n",
      "differential_evolution step 16: f(x)= 126.06\n",
      "differential_evolution step 17: f(x)= 126.06\n",
      "differential_evolution step 18: f(x)= 126.06\n",
      "differential_evolution step 19: f(x)= 126.06\n",
      "differential_evolution step 20: f(x)= 126.06\n",
      "differential_evolution step 21: f(x)= 126.06\n",
      "differential_evolution step 22: f(x)= 126.06\n",
      "differential_evolution step 23: f(x)= 126.06\n",
      "differential_evolution step 24: f(x)= 126.06\n",
      "differential_evolution step 25: f(x)= 126.06\n",
      "differential_evolution step 26: f(x)= 125.777\n",
      "differential_evolution step 27: f(x)= 125.743\n",
      "differential_evolution step 28: f(x)= 125.743\n",
      "differential_evolution step 29: f(x)= 125.743\n",
      "differential_evolution step 30: f(x)= 125.683\n",
      "differential_evolution step 31: f(x)= 125.683\n",
      "differential_evolution step 32: f(x)= 125.672\n",
      "differential_evolution step 33: f(x)= 125.672\n",
      "differential_evolution step 34: f(x)= 125.672\n",
      "differential_evolution step 35: f(x)= 125.672\n",
      "21.0 8.110902579286295 125.67172808093859 970.7899203512814 20 \n",
      "\n",
      "CPU times: user 2h 6min 53s, sys: 1.3 s, total: 2h 6min 55s\n",
      "Wall time: 2h 6min 54s\n"
     ]
    }
   ],
   "source": [
    "%%time\n",
    "ntotg=20\n",
    "asi  = 7.1 # 76^o 7.58\n",
    "#x0=resultga0.x # Param0    #Param0 = (ainc, e, w, t0, z0, P)   #parámetros iniciales\n",
    "#f = open(\"output2.txt\", \"w\")   #write format (w) to file output.txt\n",
    "resultsim = resultga0\n",
    "\n",
    "print (*resultga0.x)\n",
    "print (*resultsim.x)\n",
    "for ik in range(0,ntotg+1,1):\n",
    "        P    =15.5+ik*(5.5)/ntotg\n",
    "        a    = ((P*dy/(twopi))**2*k*k*(0.78+0.43))**(1./3.)\n",
    "        ainc = a*sin(76*rad) \n",
    "        bounds1 = (ainc*0.9,ainc*1.1), (0.7,0.99), (0, 2*pi), (t0min,t0min+P*dy), (z0min,z0max), (0.9999*P,1.0001*P)\n",
    "        resultga01 = optimize.differential_evolution(WRMS, bounds1, strategy='best1bin', maxiter=40, popsize=50,tol=0.01, mutation=(0.5, 1), recombination=0.7, seed=None, callback=None, disp=True, polish=True, init='latinhypercube', atol=0)   #disp=True si queremos ver como avanza.\n",
    "#        resultsim  = optimize.minimize(WRMS, resultsim.x, method='nelder-mead', options={'xatol': 1e-8, 'disp': True})\n",
    "        Params = ainc,0.95,206*rad,T0,0.,P  \n",
    "        print (P,a,*resultga01.x,resultga01.fun,ik, \"\\n\",file=f, end=' ', sep=' ')\n",
    "#        print (P,a,*resultsim.x,resultsim.fun,\"\\n\",file=f, end=' ', sep=' ')\n",
    "        print (P,a,resultga01.fun,WRMS(Params),ik,\"\\n\",sep=' ')\n",
    "        f.flush()\n",
    "f.close()\n"
   ]
  },
  {
   "cell_type": "code",
   "execution_count": 32,
   "metadata": {},
   "outputs": [
    {
     "data": {
      "text/plain": [
       "array([9.40855868e+00, 9.28288350e-01, 3.16134493e+00, 5.30595231e+04,\n",
       "       2.09722032e+01, 2.29963201e+01])"
      ]
     },
     "execution_count": 32,
     "metadata": {},
     "output_type": "execute_result"
    }
   ],
   "source": [
    "resultga0.x"
   ]
  },
  {
   "cell_type": "code",
   "execution_count": 25,
   "metadata": {},
   "outputs": [
    {
     "data": {
      "text/plain": [
       "array([9.38302959e+00, 9.32856790e-01, 3.17089423e+00, 5.30599905e+04,\n",
       "       1.66289206e+01, 2.29992555e+01])"
      ]
     },
     "execution_count": 25,
     "metadata": {},
     "output_type": "execute_result"
    }
   ],
   "source": [
    "#resultsim = optimize.minimize(WRMS, resultga0.x, method='nelder-mead', options={'xatol': 1e-8, 'disp': True})\n",
    "resultsim.x\n",
    "#print (Pmax, (max(t)-min(t))/dy)"
   ]
  },
  {
   "cell_type": "code",
   "execution_count": null,
   "metadata": {
    "collapsed": true
   },
   "outputs": [],
   "source": []
  },
  {
   "cell_type": "code",
   "execution_count": 26,
   "metadata": {},
   "outputs": [
    {
     "name": "stdout",
     "output_type": "stream",
     "text": [
      "9.38302958983434 0.9328567895621869 3.170894228155362 53059.99046113527 16.628920550606182 22.999255526917317 106.76369739445624\n",
      "9.38302958983434 0.9328567895621869 3.170894228155362 53059.99046113527 16.628920550606182 22.999255526917317 106.76369739445624\n"
     ]
    }
   ],
   "source": [
    "print (*resultsim.x,resultsim.fun)\n",
    "print (*resultga0.x,resultga0.fun)"
   ]
  },
  {
   "cell_type": "code",
   "execution_count": 4,
   "metadata": {},
   "outputs": [
    {
     "ename": "NameError",
     "evalue": "name 'plt' is not defined",
     "output_type": "error",
     "traceback": [
      "\u001b[0;31m---------------------------------------------------------------------------\u001b[0m",
      "\u001b[0;31mNameError\u001b[0m                                 Traceback (most recent call last)",
      "\u001b[0;32m<ipython-input-4-35bed08fd87c>\u001b[0m in \u001b[0;36m<module>\u001b[0;34m\u001b[0m\n\u001b[0;32m----> 1\u001b[0;31m \u001b[0mplt\u001b[0m\u001b[0;34m.\u001b[0m\u001b[0mscatter\u001b[0m\u001b[0;34m(\u001b[0m\u001b[0mt\u001b[0m\u001b[0;34m,\u001b[0m\u001b[0mtaur\u001b[0m\u001b[0;34m)\u001b[0m\u001b[0;34m\u001b[0m\u001b[0m\n\u001b[0m",
      "\u001b[0;31mNameError\u001b[0m: name 'plt' is not defined"
     ]
    }
   ],
   "source": [
    "plt.scatter(t,taur)"
   ]
  },
  {
   "cell_type": "code",
   "execution_count": 56,
   "metadata": {},
   "outputs": [
    {
     "name": "stdout",
     "output_type": "stream",
     "text": [
      "Finding optimal frequency:\n",
      " - Estimated peak width = 0.000629\n",
      " - Using 5 steps per peak; omega_step = 0.000126\n",
      " - User-specified period range:  3.6e+02 to 9.1e+03\n",
      " - Computing periods at 133 steps\n",
      "Zooming-in on 5 candidate peaks:\n",
      " - Computing periods at 1000 steps\n"
     ]
    },
    {
     "data": {
      "image/png": "[encoded data removed]",
      "text/plain": [
       "<Figure size 432x288 with 1 Axes>"
      ]
     },
     "metadata": {
      "needs_background": "light"
     },
     "output_type": "display_data"
    }
   ],
   "source": [
    "#Periodograma\n",
    "from gatspy.periodic import LombScargleFast\n",
    "from gatspy import datasets, periodic #Importo \"periodic\" para definir el modelo\n",
    "\n",
    "model = periodic.LombScargleFast(fit_period=True) #Defino modelo\n",
    "model.optimizer.period_range = (1.*365.25, 25.*365.25)        #Rango para buscar períodos\n",
    "model.fit(t, taur, etaur)                         #Ingreso mis datos al modelo y ajusto\n",
    "periods3, power3 = model.periodogram_auto()     #Obtengo resultados\n",
    "\n",
    "#Grafico:\n",
    "fig, ax = plt.subplots()\n",
    "ax.plot(periods3/365.25, power3)\n",
    "plt.title('Periodogram')\n",
    "ax.set(xlim=(5, 30), xlabel='Period (y)', ylabel='Lomb-Scargle Power');"
   ]
  },
  {
   "cell_type": "code",
   "execution_count": 3,
   "metadata": {},
   "outputs": [
    {
     "ename": "NameError",
     "evalue": "name 't' is not defined",
     "output_type": "error",
     "traceback": [
      "\u001b[0;31m---------------------------------------------------------------------------\u001b[0m",
      "\u001b[0;31mNameError\u001b[0m                                 Traceback (most recent call last)",
      "\u001b[0;32m<ipython-input-3-657040a714ae>\u001b[0m in \u001b[0;36m<module>\u001b[0;34m\u001b[0m\n\u001b[0;32m----> 1\u001b[0;31m \u001b[0mprint\u001b[0m\u001b[0;34m(\u001b[0m\u001b[0mt\u001b[0m\u001b[0;34m[\u001b[0m\u001b[0;36m0\u001b[0m\u001b[0;34m:\u001b[0m\u001b[0;36m10\u001b[0m\u001b[0;34m]\u001b[0m\u001b[0;34m,\u001b[0m\u001b[0mtau\u001b[0m\u001b[0;34m[\u001b[0m\u001b[0;36m0\u001b[0m\u001b[0;34m:\u001b[0m\u001b[0;36m10\u001b[0m\u001b[0;34m]\u001b[0m\u001b[0;34m)\u001b[0m\u001b[0;34m\u001b[0m\u001b[0m\n\u001b[0m",
      "\u001b[0;31mNameError\u001b[0m: name 't' is not defined"
     ]
    }
   ],
   "source": [
    "print(t[0:10],tau[0:10])\n"
   ]
  },
  {
   "cell_type": "code",
   "execution_count": null,
   "metadata": {
    "collapsed": true
   },
   "outputs": [],
   "source": []
  },
  {
   "cell_type": "code",
   "execution_count": null,
   "metadata": {
    "collapsed": true
   },
   "outputs": [],
   "source": []
  },
  {
   "cell_type": "code",
   "execution_count": null,
   "metadata": {
    "collapsed": true
   },
   "outputs": [],
   "source": []
  }
 ],
 "metadata": {
  "kernelspec": {
   "display_name": "Python 3",
   "language": "python",
   "name": "python3"
  },
  "language_info": {
   "codemirror_mode": {
    "name": "ipython",
    "version": 3
   },
   "file_extension": ".py",
   "mimetype": "text/x-python",
   "name": "python",
   "nbconvert_exporter": "python",
   "pygments_lexer": "ipython3",
   "version": "3.5.2"
  }
 },
 "nbformat": 4,
 "nbformat_minor": 2
}
