{
 "cells": [
  {
   "cell_type": "markdown",
   "metadata": {},
   "source": [
    "@ C. Giuppone . Reduccion de datos para detectar binarias . Masa 13/6. (Mp,e,w,t0,z0,P,t)\n",
    "mass(Mj),e,w(rad),t0(jd),z0(s),P(y),t(jd)"
   ]
  },
  {
   "cell_type": "code",
   "execution_count": 1,
   "metadata": {},
   "outputs": [],
   "source": [
    "import numpy as np\n",
    "%matplotlib inline\n",
    "import matplotlib.pyplot as plt\n",
    "import rebound\n",
    "from math import *    #importa todas las operaciones matemáticas de math (sin, cos, tan, sqrt, pi, etc)"
   ]
  },
  {
   "cell_type": "code",
   "execution_count": 2,
   "metadata": {},
   "outputs": [],
   "source": [
    "#anomalía eccéntrica\n",
    "def ae(e,M):\n",
    "    E = M #Valor inicial para iteración\n",
    "    i = 0\n",
    "    while True:\n",
    "        E0 = E\n",
    "        E = M + e*np.sin(E0)\n",
    "        i = i+1\n",
    "        D = (E-E0).astype('float')\n",
    "        if (abs(D)<0.0001):\n",
    "            return E\n",
    "            break\n",
    "#Anomalía verdadera:  Tan(F/2) = ee*Tan(E/2) #giuppone\n",
    "def F(e,M):\n",
    "    ee=np.sqrt((1+e)/(1-e))\n",
    "    \n",
    "    ss = sqrt(1. + e)*sin(ae(e,M)/2.)\n",
    "    cs = sqrt(1. - e)*cos(ae(e,M)/2.)\n",
    "    F   = 2*atan2(ss,cs)   #anomalía verdadera en cuadrante correcto\n",
    "    return F            "
   ]
  },
  {
   "cell_type": "markdown",
   "metadata": {},
   "source": [
    "Constantes"
   ]
  },
  {
   "cell_type": "code",
   "execution_count": 3,
   "metadata": {},
   "outputs": [],
   "source": [
    "# https://www.iau.org/public/themes/measuring/ \n",
    "uam     = 1.495978707e11\n",
    "c       = 2.99792458e8/uam #m/s/uam == ua/s\n",
    "twopi   = pi*2\n",
    "dy     = 365.25\n",
    "k      = 1.720209895e-02\n",
    "G      = k*k\n",
    "mearth = 3.04043e-6       # earth mass in solar masses\n",
    "mjup   = 9.54792e-4       #pup in solar masses\n",
    "rad    = twopi/360.0"
   ]
  },
  {
   "cell_type": "code",
   "execution_count": 4,
   "metadata": {},
   "outputs": [
    {
     "data": {
      "text/plain": [
       "110.97786295129742"
      ]
     },
     "execution_count": 4,
     "metadata": {},
     "output_type": "execute_result"
    }
   ],
   "source": [
    "F(0.1,100*rad)/rad"
   ]
  },
  {
   "cell_type": "markdown",
   "metadata": {},
   "source": [
    "DATOS"
   ]
  },
  {
   "cell_type": "markdown",
   "metadata": {},
   "source": [
    "Dibujar juntos los datos de los tiempos de tránsito de QS-vir"
   ]
  },
  {
   "cell_type": "code",
   "execution_count": 26,
   "metadata": {},
   "outputs": [],
   "source": [
    "data =np.loadtxt('qsvir.dat',usecols=(1,2,3))\n",
    "t = data[:,0]   #time\n",
    "ti   = t[0]\n",
    "tr   = t-t[0]  #gave time with respect to first observation\n",
    "taur  = data[:,1]\n",
    "etaur = data[:,2]"
   ]
  },
  {
   "cell_type": "code",
   "execution_count": 43,
   "metadata": {},
   "outputs": [],
   "source": [
    "def tau(Mp,e,w,t0,z0,P,t):  #P in years #z0 in secs #Mp enters in jupiter masses\n",
    "    n    = 2*pi/(P*365.25)\n",
    "    Mpj  = Mp*mjup\n",
    "    ainc = (G*(Mpj+Me)/n**2)**(1./3.)    #CG\n",
    "    M    = n*(t-t0)\n",
    "    f    = F(e,M)\n",
    "    \n",
    "#     print (\"Mpj,ainc,Mp\")\n",
    "#     print (Mpj,ainc,Mp)\n",
    "    \n",
    "#     r     = a*(1-e**2)/(1+e*cos(f))\n",
    "#     zrel  = r*sin(inc)*sin(w+f)+z0\n",
    "#     zab   zrel*Mp/(Me+Mp)\n",
    "#    z  =a*(1-e**2)/(1+e*cos(f))*sin(inc)*sin(f+w)+z0   #r*sin(inc)*sin(w+f)+z0\n",
    "    z  = ainc*Mpj/(Me+Mpj)*(1-e**2)/(1+e*cos(f))*sin(f+w) \n",
    "    tau=z/c+z0\n",
    "    return tau"
   ]
  },
  {
   "cell_type": "markdown",
   "metadata": {},
   "source": [
    "Dibujar ambas curvas"
   ]
  },
  {
   "cell_type": "code",
   "execution_count": 44,
   "metadata": {},
   "outputs": [
    {
     "data": {
      "image/png": "[encoded data removed]",
      "text/plain": [
       "<Figure size 432x288 with 1 Axes>"
      ]
     },
     "metadata": {
      "needs_background": "light"
     },
     "output_type": "display_data"
    }
   ],
   "source": [
    "#plt.scatter(times,z[1]/c*mp/(m0+m1+mp), label='n-body')\n",
    "plt.scatter(tr,taur, label='observations')\n",
    "#plt.plot(times*1.3,(z[1]/c*mp/(m0+m1+mp))*1.5-90, label='n-body corrected')\n",
    "#plt.xlim(0,7000)\n",
    "plt.xlabel('Time [JD]')\n",
    "#plt.ylim(-30,141)\n",
    "plt.ylabel(r'$\\tau=z/c = O-C [m/s]$')\n",
    "plt.legend()\n",
    "plt.show()\n"
   ]
  },
  {
   "cell_type": "code",
   "execution_count": 45,
   "metadata": {},
   "outputs": [],
   "source": [
    "#Construct syntethic curves\n",
    "def synt(Params):    #genera una curva de \"z\" con params\n",
    "    Mp,e,w,t0,z0,P = Params\n",
    "#    n    = 2*pi/(P*365.25)\n",
    "#    Mpj  = Mp*mjup\n",
    "#    ainc = (G*(Mpj+Me)/n**2)**(1./3.)\n",
    "    Zsy =[]   #velocidad radial sintética (genero una curva continua sin errores)\n",
    "    Tsy =[]\n",
    "    nf=1000\n",
    "    delta=max(t)-min(t)\n",
    "    ij=0\n",
    "#    print (min(t),delta)\n",
    "    while ij < nf:\n",
    "        tsy=min(t)+delta*ij/nf\n",
    "        Zsy.append(tau(Mp,e,w,t0,z0,P,tsy))\n",
    "        Tsy.append(tsy)\n",
    "        ij = ij+1\n",
    "#        print (tsy,ij)       \n",
    "    return Tsy,Zsy   \n",
    "\n",
    "def OC(Params):    #genera una curva de velocidad radial con params\n",
    "    Mp,e,w,t0,z0,P = Params\n",
    "    BOC   =[]\n",
    "    TOC   =[] \n",
    "    ij=0\n",
    "    while ij < len(t):\n",
    "        BOC.append(tau(Mp,e,w,t0,z0,P,t=t[ij]))\n",
    "        TOC.append(t[ij])\n",
    "        ij = ij+1\n",
    "    return TOC,BOC    "
   ]
  },
  {
   "cell_type": "code",
   "execution_count": 46,
   "metadata": {},
   "outputs": [
    {
     "name": "stdout",
     "output_type": "stream",
     "text": [
      "53831 48715.419887605 48715.419887605\n"
     ]
    }
   ],
   "source": [
    "#Generate synt\n",
    "m0=0.78\n",
    "m1=0.43\n",
    "Me=m0+m1\n",
    "\n",
    "Mp=52.7  #0.05033\n",
    "pp=18.96   #years\n",
    "ainc = 7.1 #au\n",
    "ep=0.95\n",
    "w = 206*rad\n",
    "T0 =2453831-(2400000)\n",
    "z0 = 0. \n",
    "print(T0,t[0],min(t))"
   ]
  },
  {
   "cell_type": "code",
   "execution_count": 47,
   "metadata": {},
   "outputs": [
    {
     "name": "stdout",
     "output_type": "stream",
     "text": [
      "52.7 0.95 3.595378259108319 0.0 18.96\n",
      "120.03589182302451\n"
     ]
    }
   ],
   "source": [
    "print (Mp,ep,w,z0,pp)\n",
    "print (tau(Mp,ep,w,54000.,z0,pp,57000.))"
   ]
  },
  {
   "cell_type": "code",
   "execution_count": 48,
   "metadata": {},
   "outputs": [],
   "source": [
    "#ainc,e,w,t0,z0,P \n",
    "Params = Mp,ep,w,T0,z0,pp\n",
    "tsy0,zsy0 = synt(Params)\n",
    "Params = Mp,ep,w,57000.,z0,pp\n",
    "tsy1,zsy1 = synt(Params)\n",
    "Params = Mp,ep,w,T0,-10,pp\n",
    "tsy2,zsy2 = synt(Params)\n",
    "Params = 15.,ep,w,T0,z0,pp\n",
    "tsy3,zsy3 = synt(Params)"
   ]
  },
  {
   "cell_type": "code",
   "execution_count": 49,
   "metadata": {},
   "outputs": [
    {
     "data": {
      "text/plain": [
       "<matplotlib.legend.Legend at 0x14d6e2d63ac8>"
      ]
     },
     "execution_count": 49,
     "metadata": {},
     "output_type": "execute_result"
    },
    {
     "data": {
      "image/png": "[encoded data removed]",
      "text/plain": [
       "<Figure size 432x288 with 1 Axes>"
      ]
     },
     "metadata": {
      "needs_background": "light"
     },
     "output_type": "display_data"
    }
   ],
   "source": [
    "#the amplitude does not change with T0\n",
    "plt.plot(tsy1,zsy1, label='fiducial T0 moved')\n",
    "plt.plot(tsy2,zsy2, label='fiducial z moved')\n",
    "plt.plot(tsy3,zsy3, label='fiducial Mp escaled')\n",
    "plt.scatter(tsy0,zsy0, label='fiducial')\n",
    "plt.legend()"
   ]
  },
  {
   "cell_type": "markdown",
   "metadata": {},
   "source": [
    "Maximal amplitude of TVE signal (see Woltjer 1922) <br>\n",
    "$z1-z2=a sin(inc) sin (u1)=a \\sin(inc) \\sqrt{1-e^2 cos^2(w)}$"
   ]
  },
  {
   "cell_type": "code",
   "execution_count": 50,
   "metadata": {},
   "outputs": [
    {
     "data": {
      "text/plain": [
       "<matplotlib.legend.Legend at 0x14d6e2db9198>"
      ]
     },
     "execution_count": 50,
     "metadata": {},
     "output_type": "execute_result"
    },
    {
     "data": {
      "image/png": "[encoded data removed]",
      "text/plain": [
       "<Figure size 432x288 with 1 Axes>"
      ]
     },
     "metadata": {
      "needs_background": "light"
     },
     "output_type": "display_data"
    }
   ],
   "source": [
    "#comparar con las mismas masas y ainc, pero cambiando a la región con mayor amplitud (e~0, w=206).\n",
    "# con esto nos damos cuenta cual es la región de maxima amplitud.\n",
    "#major amplitude\n",
    "Params = Mp,0.05,206*rad,T0,0.,pp\n",
    "tsy3,zsy3 = synt(Params)\n",
    "plt.scatter(tsy3,zsy3, label=r'same $\\omega$, e=0.05')\n",
    "plt.scatter(tsy1,zsy1, label='fiducial T0 moved')\n",
    "plt.scatter(tsy2,zsy2, label='fiducial z moved')\n",
    "plt.scatter(tsy0,zsy0, label='fiducial')\n",
    "plt.legend()"
   ]
  },
  {
   "cell_type": "code",
   "execution_count": 51,
   "metadata": {},
   "outputs": [
    {
     "data": {
      "text/plain": [
       "<matplotlib.collections.PathCollection at 0x14d6e2e23748>"
      ]
     },
     "execution_count": 51,
     "metadata": {},
     "output_type": "execute_result"
    },
    {
     "data": {
      "image/png": "[encoded data removed]",
      "text/plain": [
       "<Figure size 432x288 with 1 Axes>"
      ]
     },
     "metadata": {
      "needs_background": "light"
     },
     "output_type": "display_data"
    }
   ],
   "source": [
    "Params = ainc,0.95,206*rad,T0,0.,pp\n",
    "toc0,zoc0  = OC(Params)\n",
    "Params = ainc,0.05,206*rad,T0,0.,pp\n",
    "toc1,zoc1  = OC(Params)\n",
    "plt.scatter(toc0,zoc0)\n",
    "plt.scatter(toc1,zoc1)"
   ]
  },
  {
   "cell_type": "code",
   "execution_count": 52,
   "metadata": {},
   "outputs": [],
   "source": [
    "#Defino una WRMS que dependa de una sóla variable (que será un arreglo) (así funciona el minimizador)\n",
    "#Los DATOS que tengo son: t, taur, etaur\n",
    "#P e t0 w mp v0 = Params\n",
    "#bounds = ((aincm,aincmax), (emin,emax), (wmin, wmax), (t0min,t0max), (z0min,z0max), (Pmin,Pmax))\n",
    "def WRMS(Params):\n",
    "\n",
    "#    print (Params)\n",
    "#    print (bounds)\n",
    "    for x,r in zip(Params,bounds):    #el comando junta los datos de Params y bounds\n",
    "        if x < r[0] or x > r[1]:      #si los params son mayores o menores q los bounds retorna infinito \n",
    "      #      print (x,r[0],r[1])\n",
    "            return np.inf\n",
    "        \n",
    "    Mp,e,w,t0,z0,P = Params    #Arreglo a minimizar\n",
    "    Be=taur\n",
    "     \n",
    "#    print(taur[0:2],t[0:2])\n",
    "    VT=[]\n",
    "    ij = 0\n",
    "    while ij<len(Be):\n",
    "        VT.append(tau(Mp,e,w,t0,z0,P,t=t[ij]))\n",
    "        ij = ij + 1\n",
    "        \n",
    "    N =len(Be)\n",
    "    err   = etaur #np.sqrt(ei**2+sj**2)\n",
    "    invS  =np.sum(1./err**2)\n",
    "    Ab    =invS/N/(N-1.)\n",
    "\n",
    "    WRMS=Ab*np.sum((( VT - Be)/err)**2.)\n",
    "    return np.sqrt(WRMS)  \n",
    "\n",
    "def nWRMS(Params):\n",
    "    wi=WRMS(Params)\n",
    "    N =len(taur)\n",
    "    w2=wi*N*(N-1)\n",
    "    return -0.5*w2"
   ]
  },
  {
   "cell_type": "code",
   "execution_count": 53,
   "metadata": {},
   "outputs": [
    {
     "data": {
      "text/plain": [
       "(27.353871233722106, 9991.001468117)"
      ]
     },
     "execution_count": 53,
     "metadata": {},
     "output_type": "execute_result"
    }
   ],
   "source": [
    "(max(t)-min(t))/365.25,max(t)-min(t)"
   ]
  },
  {
   "cell_type": "code",
   "execution_count": 58,
   "metadata": {},
   "outputs": [
    {
     "data": {
      "text/plain": [
       "986.0421875918846"
      ]
     },
     "execution_count": 58,
     "metadata": {},
     "output_type": "execute_result"
    }
   ],
   "source": [
    "Params = Mp,0.95,206*rad,T0,0.,pp\n",
    "# bounds = ((aincm,aincmax), (emin,emax), (wmin, wmax), (t0min,t0max), (z0min,z0max), (Pmin,Pmax))\n",
    "Pmin=(t[2]-t[0])/dy\n",
    "Pmax=(max(t)-min(t))/dy   #in years\n",
    "t0min = min(t)\n",
    "t0max = max(t)\n",
    "z0min = min(taur)\n",
    "z0max = max(taur)\n",
    "Mpmin = 0.1  # usar definición del teórico Mjup\n",
    "Mpmax = 100. # usar definición del teórico Mjup\n",
    "bounds = (Mpmin,Mpmax), (0,0.99), (0, 2*pi), (t0min,t0max), (z0min,z0max), (Pmin,Pmax)\n",
    "bounds = (Mpmin,Mpmax), (0,0.99), (0, 2*pi), (t0min,t0max), (z0min,z0max), (15.,30.)\n",
    "WRMS(Params)"
   ]
  },
  {
   "cell_type": "code",
   "execution_count": 59,
   "metadata": {},
   "outputs": [
    {
     "name": "stdout",
     "output_type": "stream",
     "text": [
      "differential_evolution step 1: f(x)= 163.894\n",
      "differential_evolution step 2: f(x)= 163.894\n",
      "differential_evolution step 3: f(x)= 163.293\n",
      "differential_evolution step 4: f(x)= 122.235\n",
      "differential_evolution step 5: f(x)= 122.235\n",
      "differential_evolution step 6: f(x)= 122.235\n",
      "differential_evolution step 7: f(x)= 122.235\n",
      "differential_evolution step 8: f(x)= 117.536\n",
      "differential_evolution step 9: f(x)= 117.536\n",
      "differential_evolution step 10: f(x)= 117.536\n",
      "differential_evolution step 11: f(x)= 117.536\n",
      "differential_evolution step 12: f(x)= 103.102\n",
      "differential_evolution step 13: f(x)= 103.102\n",
      "differential_evolution step 14: f(x)= 103.102\n",
      "differential_evolution step 15: f(x)= 101.615\n",
      "differential_evolution step 16: f(x)= 101.615\n",
      "differential_evolution step 17: f(x)= 101.615\n",
      "differential_evolution step 18: f(x)= 101.615\n",
      "differential_evolution step 19: f(x)= 101.615\n",
      "differential_evolution step 20: f(x)= 101.615\n",
      "differential_evolution step 21: f(x)= 101.615\n",
      "differential_evolution step 22: f(x)= 96.6475\n",
      "differential_evolution step 23: f(x)= 96.6475\n",
      "differential_evolution step 24: f(x)= 96.6475\n",
      "differential_evolution step 25: f(x)= 96.6475\n",
      "differential_evolution step 26: f(x)= 96.6475\n",
      "differential_evolution step 27: f(x)= 96.6475\n",
      "differential_evolution step 28: f(x)= 96.6475\n",
      "differential_evolution step 29: f(x)= 96.6475\n",
      "differential_evolution step 30: f(x)= 96.6475\n",
      "differential_evolution step 31: f(x)= 96.6475\n",
      "differential_evolution step 32: f(x)= 89.5691\n",
      "differential_evolution step 33: f(x)= 89.5691\n",
      "differential_evolution step 34: f(x)= 89.5691\n",
      "differential_evolution step 35: f(x)= 89.5691\n",
      "differential_evolution step 36: f(x)= 88.8372\n",
      "differential_evolution step 37: f(x)= 86.6597\n",
      "differential_evolution step 38: f(x)= 86.6597\n",
      "differential_evolution step 39: f(x)= 85.0507\n",
      "differential_evolution step 40: f(x)= 85.0507\n",
      "differential_evolution step 41: f(x)= 85.0364\n",
      "differential_evolution step 42: f(x)= 85.0364\n",
      "differential_evolution step 43: f(x)= 85.0364\n",
      "differential_evolution step 44: f(x)= 85.0364\n",
      "differential_evolution step 45: f(x)= 85.0364\n",
      "differential_evolution step 46: f(x)= 84.5111\n",
      "differential_evolution step 47: f(x)= 84.5111\n",
      "differential_evolution step 48: f(x)= 84.5111\n",
      "differential_evolution step 49: f(x)= 84.5111\n",
      "differential_evolution step 50: f(x)= 84.5111\n",
      "differential_evolution step 51: f(x)= 84.5111\n",
      "differential_evolution step 52: f(x)= 84.5111\n",
      "differential_evolution step 53: f(x)= 81.5354\n",
      "differential_evolution step 54: f(x)= 81.5354\n",
      "differential_evolution step 55: f(x)= 81.5354\n",
      "differential_evolution step 56: f(x)= 81.5354\n",
      "differential_evolution step 57: f(x)= 81.5354\n",
      "differential_evolution step 58: f(x)= 81.5354\n",
      "differential_evolution step 59: f(x)= 81.5354\n",
      "differential_evolution step 60: f(x)= 81.5354\n",
      "differential_evolution step 61: f(x)= 81.5354\n",
      "differential_evolution step 62: f(x)= 81.5354\n",
      "differential_evolution step 63: f(x)= 81.5354\n",
      "differential_evolution step 64: f(x)= 81.5354\n",
      "differential_evolution step 65: f(x)= 80.1697\n",
      "differential_evolution step 66: f(x)= 80.1697\n",
      "differential_evolution step 67: f(x)= 80.1697\n",
      "differential_evolution step 68: f(x)= 80.1697\n",
      "differential_evolution step 69: f(x)= 78.5475\n",
      "differential_evolution step 70: f(x)= 78.5475\n",
      "differential_evolution step 71: f(x)= 78.5475\n",
      "differential_evolution step 72: f(x)= 78.5475\n",
      "differential_evolution step 73: f(x)= 78.5475\n",
      "differential_evolution step 74: f(x)= 78.5475\n",
      "differential_evolution step 75: f(x)= 78.5475\n",
      "differential_evolution step 76: f(x)= 78.5475\n",
      "differential_evolution step 77: f(x)= 78.5475\n",
      "differential_evolution step 78: f(x)= 78.5475\n",
      "differential_evolution step 79: f(x)= 78.5475\n",
      "differential_evolution step 80: f(x)= 78.5475\n",
      "differential_evolution step 81: f(x)= 78.5475\n",
      "differential_evolution step 82: f(x)= 78.5475\n",
      "differential_evolution step 83: f(x)= 78.5475\n",
      "differential_evolution step 84: f(x)= 78.5475\n",
      "differential_evolution step 85: f(x)= 78.5475\n",
      "differential_evolution step 86: f(x)= 78.3589\n",
      "differential_evolution step 87: f(x)= 78.3589\n",
      "differential_evolution step 88: f(x)= 78.3589\n",
      "differential_evolution step 89: f(x)= 78.3589\n",
      "differential_evolution step 90: f(x)= 78.3589\n",
      "differential_evolution step 91: f(x)= 78.3041\n",
      "differential_evolution step 92: f(x)= 78.3041\n",
      "differential_evolution step 93: f(x)= 78.3041\n",
      "differential_evolution step 94: f(x)= 78.3041\n",
      "differential_evolution step 95: f(x)= 78.3041\n",
      "CPU times: user 14min 14s, sys: 88 ms, total: 14min 14s\n",
      "Wall time: 14min 14s\n"
     ]
    },
    {
     "data": {
      "text/plain": [
       "array([ 5.10992945e+01,  9.38408444e-01,  3.31497377e+00,  5.34078171e+04,\n",
       "       -7.52187550e+00,  2.95344310e+01])"
      ]
     },
     "execution_count": 59,
     "metadata": {},
     "output_type": "execute_result"
    }
   ],
   "source": [
    "%%time\n",
    "import scipy.optimize as optimize\n",
    "#Minimize # genetics algorithm. No necesita condicion inicial...sólo bounds!\n",
    "resultga0 = optimize.differential_evolution(WRMS, bounds, strategy='best1bin', maxiter=95, popsize=80,tol=0.01, mutation=(0.5, 1), recombination=0.7, seed=None, callback=None, disp=True, polish=True, init='latinhypercube', atol=0)   #disp=True si queremos ver como avanza.\n",
    "resultga0.x"
   ]
  },
  {
   "cell_type": "code",
   "execution_count": 60,
   "metadata": {},
   "outputs": [
    {
     "name": "stdout",
     "output_type": "stream",
     "text": [
      "52.7 0.95 3.595378259108319 53831 0.0 18.96\n",
      "51.09929453490829 0.9384084436083107 3.3149737702853566 53407.817064955634 -7.521875497943943 29.534431022432884\n",
      "((0.1, 100.0), (0, 0.99), (0, 6.283185307179586), (48715.419887605, 58706.421355722), (-119.99747701921, 120.19571762066), (15.0, 30.0))\n",
      "78.30407443230341 189.934006233921\n",
      "51.09929453490829 0.9384084436083107 3.3149737702853566 53407.817064955634 -7.521875497943943 29.534431022432884\n"
     ]
    }
   ],
   "source": [
    "print(*Params)\n",
    "print(*resultga0.x)\n",
    "print(bounds)   #mi resultado está dando muy cerca de los BOUNDS. Repetir.\n",
    "f = open(\"fitsMp.txt\", \"w\")\n",
    "print(resultga0.fun,resultga0.x[2]/rad)\n",
    "print (\"P \",\"ainc \", \"ainc e w T0 z  P \", \"WRMS \",\"\\n\",file=f, end=' ', sep=' ')\n",
    "print (resultga0.x[4],resultga0.x[0],*resultga0.x,resultga0.fun,\"\\n\",file=f, end=' ', sep=' ')\n",
    "f.close()\n",
    "print (*resultga0.x)"
   ]
  },
  {
   "cell_type": "code",
   "execution_count": 64,
   "metadata": {},
   "outputs": [
    {
     "name": "stdout",
     "output_type": "stream",
     "text": [
      "255.6435642835363 263.92124370292134\n"
     ]
    },
    {
     "data": {
      "image/png": "[encoded data removed]",
      "text/plain": [
       "<Figure size 432x288 with 1 Axes>"
      ]
     },
     "metadata": {
      "needs_background": "light"
     },
     "output_type": "display_data"
    }
   ],
   "source": [
    "#Paramssol = ainc,e,w,T0,z,P wrms(80.6665)\n",
    "Paramsma00 = (6.64683762e+01, 9.55424521e-01, 3.24773740e+00, 5.32430641e+04, 6.37917690e-01, 2.79959842e+01) \n",
    "Paramsmass= (5.10992945e+01,  9.38408444e-01,  3.31497377e+00,  5.34078171e+04, -7.52187550e+00,  2.95344310e+01)\n",
    "# Paramsmas0 = (2.20097668e+01,  9.46496830e-01,  3.26382027e+00,  5.32898254e+04, -3.41819332e-01,  2.79891240e+01)\n",
    "# Paramsmass = (6.64683762e+01, 9.55424521e-01, 3.24773740e+00, 5.32430641e+04, 6.37917690e-01, 2.79959842e+01)\n",
    "# Paramssol0 = (9.02724903e+00, 9.11372213e-01, 3.23027678e+00, 5.31457517e+04, 1.68270052e+01, 2.73368237e+01)\n",
    "# Paramssol1 = (9.38302959e+00, 9.32856790e-01, 3.17089423e+00, 5.30599905e+04, 1.66289206e+01, 2.29992555e+01)\n",
    "# tgam,taugam   = synt(Paramsmass)\n",
    "# tga ,tauga    = synt(Paramssol0)\n",
    "# tga1,tauga1   = synt(Paramssol1)\n",
    "# tgam0,taugam0   = synt(Paramsmas0)\n",
    "tga00,tauga00   = synt(Paramsma00)\n",
    "# plt.plot(tgam0,taugam0, label=\"Paramsmas0\")\n",
    "# plt.plot(tgam,taugam, label=\"Paramsmass\")\n",
    "# plt.plot(tga ,tauga , label=\"Paramssol0\")\n",
    "# plt.plot(tga1,tauga1, label=\"Paramssol1\", lw=2)\n",
    "plt.plot(tga00,tauga00, label=\"Paramsmas0\")\n",
    "plt.scatter(t,taur, label=\"Obsdata\")\n",
    "plt.legend()\n",
    "print (WRMS(Paramssol0),WRMS(Paramssol1))"
   ]
  },
  {
   "cell_type": "code",
   "execution_count": 30,
   "metadata": {},
   "outputs": [
    {
     "data": {
      "text/plain": [
       "<matplotlib.legend.Legend at 0x14ba99cd4be0>"
      ]
     },
     "execution_count": 30,
     "metadata": {},
     "output_type": "execute_result"
    },
    {
     "data": {
      "image/png": "[encoded data removed]",
      "text/plain": [
       "<Figure size 432x288 with 1 Axes>"
      ]
     },
     "metadata": {
      "needs_background": "light"
     },
     "output_type": "display_data"
    }
   ],
   "source": [
    "#toc0,zoc0  = OC(Paramssol0)\n",
    "#toc1,zoc1  = OC(Paramssol1)\n",
    "tocm,zocm  = OC(Paramsmass)\n",
    "tocn,zocn  = OC(Paramsmas0)\n",
    "#plt.scatter(toc0,zoc0-taur, label=\"Paramssol0\")\n",
    "#plt.scatter(toc1,zoc1-taur, label=\"Paramssol1\")\n",
    "plt.scatter(tocm,zocm-taur, label=\"Paramsmass\")\n",
    "plt.scatter(tocn,zocn-taur, label=\"Paramsmas0\")\n",
    "plt.legend()"
   ]
  },
  {
   "cell_type": "code",
   "execution_count": 33,
   "metadata": {},
   "outputs": [
    {
     "name": "stdout",
     "output_type": "stream",
     "text": [
      "[ 2.20097668e+01  9.46496830e-01  3.26382027e+00  5.32898254e+04\n",
      " -3.41819332e-01  2.79891240e+01] 80.47447914630715 80.47447914630715\n"
     ]
    }
   ],
   "source": [
    "#Paramssol = Mp,e,w,T0,z,P\n",
    "print (resultga0.x,WRMS(resultga0.x),resultga0.fun)\n",
    "#print ((max(toc0)-min(toc0))/dy)"
   ]
  },
  {
   "cell_type": "code",
   "execution_count": 36,
   "metadata": {},
   "outputs": [
    {
     "data": {
      "text/plain": [
       "256.4792148021148"
      ]
     },
     "execution_count": 36,
     "metadata": {},
     "output_type": "execute_result"
    }
   ],
   "source": [
    "#2nd planet fit\n",
    "#data =np.loadtxt('qsvir.dat',usecols=(1,2,3))\n",
    "#t = data[:,0]   #time\n",
    "#taur  = data[:,1]\n",
    "#etaur = data[:,2]\n",
    "Params     = resultga0.x\n",
    "tocn,zocn  = OC(Params)\n",
    "taur       = zocn-taur\n",
    "\n",
    "# bounds = ((aincm,aincmax), (emin,emax), (wmin, wmax), (t0min,t0max), (z0min,z0max), (Pmin,Pmax))\n",
    "Pmin=(t[2]-t[0])/dy\n",
    "Pmax=(max(t)-min(t))/dy   #in years\n",
    "t0min = min(t)\n",
    "t0max = max(t)\n",
    "z0min = min(taur)\n",
    "z0max = max(taur)\n",
    "Mpmin = 0.1  # usar definición del teórico Mjup\n",
    "Mpmax = 30. # usar definición del teórico Mjup\n",
    "bounds = (Mpmin,Mpmax), (0,0.99), (0, 2*pi), (t0min,t0max), (z0min,z0max), (Pmin,Pmax)\n",
    "bounds = (Mpmin,Mpmax), (0,0.99), (0, 2*pi), (t0min,t0max), (z0min,z0max), (15.,30.)\n",
    "WRMS(Params)"
   ]
  },
  {
   "cell_type": "code",
   "execution_count": 37,
   "metadata": {},
   "outputs": [
    {
     "name": "stdout",
     "output_type": "stream",
     "text": [
      "differential_evolution step 1: f(x)= 81.0273\n",
      "differential_evolution step 2: f(x)= 70.2195\n",
      "differential_evolution step 3: f(x)= 67.8663\n",
      "differential_evolution step 4: f(x)= 67.8663\n",
      "differential_evolution step 5: f(x)= 67.8663\n",
      "differential_evolution step 6: f(x)= 67.8663\n",
      "differential_evolution step 7: f(x)= 59.0759\n",
      "differential_evolution step 8: f(x)= 59.0759\n",
      "differential_evolution step 9: f(x)= 58.1975\n",
      "differential_evolution step 10: f(x)= 55.1746\n",
      "differential_evolution step 11: f(x)= 55.1746\n",
      "differential_evolution step 12: f(x)= 55.1746\n",
      "differential_evolution step 13: f(x)= 55.1746\n",
      "differential_evolution step 14: f(x)= 53.5691\n",
      "differential_evolution step 15: f(x)= 52.9971\n",
      "differential_evolution step 16: f(x)= 52.9971\n",
      "differential_evolution step 17: f(x)= 52.9971\n",
      "differential_evolution step 18: f(x)= 52.9971\n",
      "differential_evolution step 19: f(x)= 52.9971\n",
      "differential_evolution step 20: f(x)= 52.9971\n",
      "differential_evolution step 21: f(x)= 52.9971\n",
      "differential_evolution step 22: f(x)= 52.9971\n",
      "differential_evolution step 23: f(x)= 52.9971\n",
      "differential_evolution step 24: f(x)= 52.9971\n",
      "differential_evolution step 25: f(x)= 52.9971\n",
      "differential_evolution step 26: f(x)= 52.9971\n",
      "differential_evolution step 27: f(x)= 51.8712\n",
      "differential_evolution step 28: f(x)= 49.5402\n",
      "differential_evolution step 29: f(x)= 49.5402\n",
      "differential_evolution step 30: f(x)= 48.8442\n",
      "differential_evolution step 31: f(x)= 48.8442\n",
      "differential_evolution step 32: f(x)= 48.8442\n",
      "differential_evolution step 33: f(x)= 48.8442\n",
      "differential_evolution step 34: f(x)= 48.8442\n",
      "differential_evolution step 35: f(x)= 48.8442\n",
      "differential_evolution step 36: f(x)= 48.8442\n",
      "differential_evolution step 37: f(x)= 48.8442\n",
      "differential_evolution step 38: f(x)= 48.8442\n",
      "differential_evolution step 39: f(x)= 48.8442\n",
      "differential_evolution step 40: f(x)= 48.8442\n",
      "differential_evolution step 41: f(x)= 48.8442\n",
      "differential_evolution step 42: f(x)= 48.8442\n",
      "differential_evolution step 43: f(x)= 48.8442\n",
      "differential_evolution step 44: f(x)= 48.8442\n",
      "differential_evolution step 45: f(x)= 48.8442\n",
      "differential_evolution step 46: f(x)= 48.8442\n",
      "differential_evolution step 47: f(x)= 48.8442\n",
      "differential_evolution step 48: f(x)= 47.7707\n",
      "differential_evolution step 49: f(x)= 47.7707\n",
      "differential_evolution step 50: f(x)= 46.4409\n",
      "differential_evolution step 51: f(x)= 46.4409\n",
      "differential_evolution step 52: f(x)= 46.4409\n",
      "differential_evolution step 53: f(x)= 46.4409\n",
      "differential_evolution step 54: f(x)= 46.4409\n",
      "differential_evolution step 55: f(x)= 45.679\n",
      "differential_evolution step 56: f(x)= 45.679\n",
      "differential_evolution step 57: f(x)= 45.679\n",
      "differential_evolution step 58: f(x)= 45.602\n",
      "differential_evolution step 59: f(x)= 45.602\n",
      "differential_evolution step 60: f(x)= 45.602\n",
      "differential_evolution step 61: f(x)= 45.602\n",
      "differential_evolution step 62: f(x)= 45.602\n",
      "differential_evolution step 63: f(x)= 45.602\n",
      "differential_evolution step 64: f(x)= 45.602\n",
      "differential_evolution step 65: f(x)= 45.602\n",
      "differential_evolution step 66: f(x)= 45.602\n",
      "differential_evolution step 67: f(x)= 45.602\n",
      "differential_evolution step 68: f(x)= 45.4601\n",
      "differential_evolution step 69: f(x)= 45.3553\n",
      "differential_evolution step 70: f(x)= 45.3553\n",
      "differential_evolution step 71: f(x)= 45.3553\n",
      "differential_evolution step 72: f(x)= 45.3553\n",
      "differential_evolution step 73: f(x)= 45.1242\n",
      "differential_evolution step 74: f(x)= 45.1242\n",
      "differential_evolution step 75: f(x)= 45.1242\n",
      "differential_evolution step 76: f(x)= 45.1242\n",
      "differential_evolution step 77: f(x)= 45.1242\n",
      "differential_evolution step 78: f(x)= 45.1242\n",
      "differential_evolution step 79: f(x)= 45.1242\n",
      "differential_evolution step 80: f(x)= 45.0663\n",
      "differential_evolution step 81: f(x)= 45.0663\n",
      "differential_evolution step 82: f(x)= 44.8496\n",
      "differential_evolution step 83: f(x)= 44.8496\n",
      "differential_evolution step 84: f(x)= 44.8496\n",
      "differential_evolution step 85: f(x)= 44.8496\n",
      "differential_evolution step 86: f(x)= 44.8496\n",
      "differential_evolution step 87: f(x)= 44.8496\n",
      "differential_evolution step 88: f(x)= 44.8496\n",
      "differential_evolution step 89: f(x)= 44.8496\n",
      "differential_evolution step 90: f(x)= 44.7224\n",
      "differential_evolution step 91: f(x)= 44.7224\n",
      "differential_evolution step 92: f(x)= 44.7224\n",
      "differential_evolution step 93: f(x)= 44.7224\n",
      "differential_evolution step 94: f(x)= 44.7224\n",
      "differential_evolution step 95: f(x)= 44.7224\n",
      "CPU times: user 12min 54s, sys: 948 ms, total: 12min 55s\n",
      "Wall time: 12min 55s\n"
     ]
    },
    {
     "data": {
      "text/plain": [
       "array([ 5.16222043e+00,  8.92238123e-01,  5.40724837e+00,  5.00595858e+04,\n",
       "       -1.66823108e+01,  1.77721797e+01])"
      ]
     },
     "execution_count": 37,
     "metadata": {},
     "output_type": "execute_result"
    }
   ],
   "source": [
    "%%time\n",
    "import scipy.optimize as optimize\n",
    "#Minimize # genetics algorithm. No necesita condicion inicial...sólo bounds!\n",
    "resultga0 = optimize.differential_evolution(WRMS, bounds, strategy='best1bin', maxiter=95, popsize=80,tol=0.01, mutation=(0.5, 1), recombination=0.7, seed=None, callback=None, disp=True, polish=True, init='latinhypercube', atol=0)   #disp=True si queremos ver como avanza.\n",
    "resultga0.x"
   ]
  },
  {
   "cell_type": "code",
   "execution_count": 38,
   "metadata": {},
   "outputs": [
    {
     "data": {
      "text/plain": [
       "<matplotlib.legend.Legend at 0x14ba992b8940>"
      ]
     },
     "execution_count": 38,
     "metadata": {},
     "output_type": "execute_result"
    },
    {
     "data": {
      "image/png": "[encoded data removed]",
      "text/plain": [
       "<Figure size 432x288 with 1 Axes>"
      ]
     },
     "metadata": {
      "needs_background": "light"
     },
     "output_type": "display_data"
    }
   ],
   "source": [
    "Parampl2 = (5.16222043e+00,  8.92238123e-01,  5.40724837e+00,  5.00595858e+04, -1.66823108e+01,  1.77721797e+01)\n",
    "toc2,zoc2  = OC(Parampl2)\n",
    "#plt.scatter(toc0,zoc0-taur, label=\"Paramssol0\")\n",
    "#plt.scatter(toc1,zoc1-taur, label=\"Paramssol1\")\n",
    "plt.scatter(toc2,zoc2-taur, label=\"Paramsmass\")\n",
    "plt.legend()"
   ]
  },
  {
   "cell_type": "code",
   "execution_count": null,
   "metadata": {},
   "outputs": [
    {
     "name": "stdout",
     "output_type": "stream",
     "text": [
      "22.009766799998953 0.9464968300248483 3.263820271735943 53289.82536112527 -0.3418193321784222 27.98912395035914\n",
      "22.009766799998953 0.9464968300248483 3.263820271735943 53289.82536112527 -0.3418193321784222 27.98912395035914\n"
     ]
    },
    {
     "name": "stderr",
     "output_type": "stream",
     "text": [
      "/usr/local/lib/python3.5/dist-packages/numpy/core/_methods.py:193: RuntimeWarning: invalid value encountered in subtract\n",
      "  x = asanyarray(arr - arrmean)\n"
     ]
    }
   ],
   "source": [
    "%%time\n",
    "ntotg=20\n",
    "asi  = 7.1 # 76^o 7.58\n",
    "#x0=resultga0.x # Param0    #Param0 = (ainc, e, w, t0, z0, P)   #parámetros iniciales\n",
    "#f = open(\"output2.txt\", \"w\")   #write format (w) to file output.txt\n",
    "resultsim = resultga0\n",
    "\n",
    "f = open(\"gridP-Mp.txt\", \"w\")\n",
    "print (*resultga0.x)\n",
    "print (*resultsim.x)\n",
    "for ik in range(0,ntotg+1,1):\n",
    "        P    =15.5+ik*(15.5)/ntotg\n",
    "        bounds1 = (0.1*Mp,2*Mp), (0.7,0.99), (0, 2*pi), (t0min,t0min+P*dy), (z0min,z0max), (0.9999*P,1.0001*P)\n",
    "        resultga01 = optimize.differential_evolution(WRMS, bounds1, strategy='best1bin', maxiter=40, popsize=50,tol=0.01, mutation=(0.5, 1), recombination=0.7, seed=None, callback=None, disp=False, polish=True, init='latinhypercube', atol=0)   #disp=True si queremos ver como avanza.\n",
    "#        resultsim  = optimize.minimize(WRMS, resultsim.x, method='nelder-mead', options={'xatol': 1e-8, 'disp': True})\n",
    "        Params = resultga01.x\n",
    "        print (P,a,*resultga01.x,resultga01.fun,ik, \"\\n\",file=f, end=' ', sep=' ')\n",
    "#        print (P,a,*resultsim.x,resultsim.fun,\"\\n\",file=f, end=' ', sep=' ')\n",
    "        print (P,a,resultga01.fun,WRMS(Params),ik,\"\\n\",sep=' ')\n",
    "        f.flush()\n",
    "f.close()\n"
   ]
  },
  {
   "cell_type": "code",
   "execution_count": 32,
   "metadata": {},
   "outputs": [
    {
     "data": {
      "text/plain": [
       "array([ 2.20097668e+01,  9.46496830e-01,  3.26382027e+00,  5.32898254e+04,\n",
       "       -3.41819332e-01,  2.79891240e+01])"
      ]
     },
     "execution_count": 32,
     "metadata": {},
     "output_type": "execute_result"
    }
   ],
   "source": [
    "resultga0.x"
   ]
  },
  {
   "cell_type": "code",
   "execution_count": 25,
   "metadata": {},
   "outputs": [
    {
     "data": {
      "text/plain": [
       "array([9.38302959e+00, 9.32856790e-01, 3.17089423e+00, 5.30599905e+04,\n",
       "       1.66289206e+01, 2.29992555e+01])"
      ]
     },
     "execution_count": 25,
     "metadata": {},
     "output_type": "execute_result"
    }
   ],
   "source": [
    "#resultsim = optimize.minimize(WRMS, resultga0.x, method='nelder-mead', options={'xatol': 1e-8, 'disp': True})\n",
    "resultsim.x\n",
    "#print (Pmax, (max(t)-min(t))/dy)"
   ]
  },
  {
   "cell_type": "code",
   "execution_count": null,
   "metadata": {
    "collapsed": true,
    "jupyter": {
     "outputs_hidden": true
    }
   },
   "outputs": [],
   "source": []
  },
  {
   "cell_type": "code",
   "execution_count": 26,
   "metadata": {},
   "outputs": [
    {
     "name": "stdout",
     "output_type": "stream",
     "text": [
      "9.38302958983434 0.9328567895621869 3.170894228155362 53059.99046113527 16.628920550606182 22.999255526917317 106.76369739445624\n",
      "9.38302958983434 0.9328567895621869 3.170894228155362 53059.99046113527 16.628920550606182 22.999255526917317 106.76369739445624\n"
     ]
    }
   ],
   "source": [
    "print (*resultsim.x,resultsim.fun)\n",
    "print (*resultga0.x,resultga0.fun)"
   ]
  },
  {
   "cell_type": "code",
   "execution_count": 4,
   "metadata": {},
   "outputs": [
    {
     "ename": "NameError",
     "evalue": "name 'plt' is not defined",
     "output_type": "error",
     "traceback": [
      "\u001b[0;31m---------------------------------------------------------------------------\u001b[0m",
      "\u001b[0;31mNameError\u001b[0m                                 Traceback (most recent call last)",
      "\u001b[0;32m<ipython-input-4-35bed08fd87c>\u001b[0m in \u001b[0;36m<module>\u001b[0;34m\u001b[0m\n\u001b[0;32m----> 1\u001b[0;31m \u001b[0mplt\u001b[0m\u001b[0;34m.\u001b[0m\u001b[0mscatter\u001b[0m\u001b[0;34m(\u001b[0m\u001b[0mt\u001b[0m\u001b[0;34m,\u001b[0m\u001b[0mtaur\u001b[0m\u001b[0;34m)\u001b[0m\u001b[0;34m\u001b[0m\u001b[0m\n\u001b[0m",
      "\u001b[0;31mNameError\u001b[0m: name 'plt' is not defined"
     ]
    }
   ],
   "source": [
    "plt.scatter(t,taur)"
   ]
  },
  {
   "cell_type": "code",
   "execution_count": 28,
   "metadata": {},
   "outputs": [
    {
     "name": "stdout",
     "output_type": "stream",
     "text": [
      "Finding optimal frequency:\n",
      " - Estimated peak width = 0.000629\n",
      " - Using 5 steps per peak; omega_step = 0.000126\n",
      " - User-specified period range:  3.6e+02 to 9.1e+03\n",
      " - Computing periods at 133 steps\n",
      "Zooming-in on 5 candidate peaks:\n",
      " - Computing periods at 1000 steps\n"
     ]
    },
    {
     "data": {
      "image/png": "[encoded data removed]",
      "text/plain": [
       "<Figure size 432x288 with 1 Axes>"
      ]
     },
     "metadata": {
      "needs_background": "light"
     },
     "output_type": "display_data"
    }
   ],
   "source": [
    "#Periodograma\n",
    "from gatspy.periodic import LombScargleFast\n",
    "from gatspy import datasets, periodic #Importo \"periodic\" para definir el modelo\n",
    "\n",
    "model = periodic.LombScargleFast(fit_period=True) #Defino modelo\n",
    "model.optimizer.period_range = (1.*365.25, 25.*365.25)        #Rango para buscar períodos\n",
    "model.fit(t, taur, etaur)                         #Ingreso mis datos al modelo y ajusto\n",
    "periods3, power3 = model.periodogram_auto()     #Obtengo resultados\n",
    "\n",
    "#Grafico:\n",
    "fig, ax = plt.subplots()\n",
    "ax.plot(periods3/365.25, power3)\n",
    "plt.title('Periodogram')\n",
    "ax.set(xlim=(5, 30), xlabel='Period (y)', ylabel='Lomb-Scargle Power');"
   ]
  },
  {
   "cell_type": "code",
   "execution_count": 3,
   "metadata": {},
   "outputs": [
    {
     "ename": "NameError",
     "evalue": "name 't' is not defined",
     "output_type": "error",
     "traceback": [
      "\u001b[0;31m---------------------------------------------------------------------------\u001b[0m",
      "\u001b[0;31mNameError\u001b[0m                                 Traceback (most recent call last)",
      "\u001b[0;32m<ipython-input-3-657040a714ae>\u001b[0m in \u001b[0;36m<module>\u001b[0;34m\u001b[0m\n\u001b[0;32m----> 1\u001b[0;31m \u001b[0mprint\u001b[0m\u001b[0;34m(\u001b[0m\u001b[0mt\u001b[0m\u001b[0;34m[\u001b[0m\u001b[0;36m0\u001b[0m\u001b[0;34m:\u001b[0m\u001b[0;36m10\u001b[0m\u001b[0;34m]\u001b[0m\u001b[0;34m,\u001b[0m\u001b[0mtau\u001b[0m\u001b[0;34m[\u001b[0m\u001b[0;36m0\u001b[0m\u001b[0;34m:\u001b[0m\u001b[0;36m10\u001b[0m\u001b[0;34m]\u001b[0m\u001b[0;34m)\u001b[0m\u001b[0;34m\u001b[0m\u001b[0m\n\u001b[0m",
      "\u001b[0;31mNameError\u001b[0m: name 't' is not defined"
     ]
    }
   ],
   "source": [
    "print(t[0:10],tau[0:10])\n"
   ]
  },
  {
   "cell_type": "code",
   "execution_count": null,
   "metadata": {
    "collapsed": true,
    "jupyter": {
     "outputs_hidden": true
    }
   },
   "outputs": [],
   "source": []
  },
  {
   "cell_type": "code",
   "execution_count": null,
   "metadata": {
    "collapsed": true,
    "jupyter": {
     "outputs_hidden": true
    }
   },
   "outputs": [],
   "source": []
  },
  {
   "cell_type": "code",
   "execution_count": null,
   "metadata": {
    "collapsed": true,
    "jupyter": {
     "outputs_hidden": true
    }
   },
   "outputs": [],
   "source": []
  }
 ],
 "metadata": {
  "kernelspec": {
   "display_name": "Python 3",
   "language": "python",
   "name": "python3"
  },
  "language_info": {
   "codemirror_mode": {
    "name": "ipython",
    "version": 3
   },
   "file_extension": ".py",
   "mimetype": "text/x-python",
   "name": "python",
   "nbconvert_exporter": "python",
   "pygments_lexer": "ipython3",
   "version": "3.5.2"
  }
 },
 "nbformat": 4,
 "nbformat_minor": 2
}
